{
 "cells": [
  {
   "cell_type": "code",
   "execution_count": 2,
   "metadata": {},
   "outputs": [
    {
     "data": {
      "text/html": [
       "<table class=\"simpletable\">\n",
       "<caption>OLS Regression Results</caption>\n",
       "<tr>\n",
       "  <th>Dep. Variable:</th>         <td>testscr</td>     <th>  R-squared:         </th> <td>   0.051</td>\n",
       "</tr>\n",
       "<tr>\n",
       "  <th>Model:</th>                   <td>OLS</td>       <th>  Adj. R-squared:    </th> <td>   0.049</td>\n",
       "</tr>\n",
       "<tr>\n",
       "  <th>Method:</th>             <td>Least Squares</td>  <th>  F-statistic:       </th> <td>   22.58</td>\n",
       "</tr>\n",
       "<tr>\n",
       "  <th>Date:</th>             <td>Sat, 25 Jul 2020</td> <th>  Prob (F-statistic):</th> <td>2.78e-06</td>\n",
       "</tr>\n",
       "<tr>\n",
       "  <th>Time:</th>                 <td>19:19:25</td>     <th>  Log-Likelihood:    </th> <td> -1822.2</td>\n",
       "</tr>\n",
       "<tr>\n",
       "  <th>No. Observations:</th>      <td>   420</td>      <th>  AIC:               </th> <td>   3648.</td>\n",
       "</tr>\n",
       "<tr>\n",
       "  <th>Df Residuals:</th>          <td>   418</td>      <th>  BIC:               </th> <td>   3657.</td>\n",
       "</tr>\n",
       "<tr>\n",
       "  <th>Df Model:</th>              <td>     1</td>      <th>                     </th>     <td> </td>   \n",
       "</tr>\n",
       "<tr>\n",
       "  <th>Covariance Type:</th>      <td>nonrobust</td>    <th>                     </th>     <td> </td>   \n",
       "</tr>\n",
       "</table>\n",
       "<table class=\"simpletable\">\n",
       "<tr>\n",
       "    <td></td>       <th>coef</th>     <th>std err</th>      <th>t</th>      <th>P>|t|</th>  <th>[0.025</th>    <th>0.975]</th>  \n",
       "</tr>\n",
       "<tr>\n",
       "  <th>const</th> <td>  698.9330</td> <td>    9.467</td> <td>   73.825</td> <td> 0.000</td> <td>  680.323</td> <td>  717.543</td>\n",
       "</tr>\n",
       "<tr>\n",
       "  <th>str</th>   <td>   -2.2798</td> <td>    0.480</td> <td>   -4.751</td> <td> 0.000</td> <td>   -3.223</td> <td>   -1.337</td>\n",
       "</tr>\n",
       "</table>\n",
       "<table class=\"simpletable\">\n",
       "<tr>\n",
       "  <th>Omnibus:</th>       <td> 5.390</td> <th>  Durbin-Watson:     </th> <td>   0.129</td>\n",
       "</tr>\n",
       "<tr>\n",
       "  <th>Prob(Omnibus):</th> <td> 0.068</td> <th>  Jarque-Bera (JB):  </th> <td>   3.589</td>\n",
       "</tr>\n",
       "<tr>\n",
       "  <th>Skew:</th>          <td>-0.012</td> <th>  Prob(JB):          </th> <td>   0.166</td>\n",
       "</tr>\n",
       "<tr>\n",
       "  <th>Kurtosis:</th>      <td> 2.548</td> <th>  Cond. No.          </th> <td>    207.</td>\n",
       "</tr>\n",
       "</table><br/><br/>Warnings:<br/>[1] Standard Errors assume that the covariance matrix of the errors is correctly specified."
      ],
      "text/plain": [
       "<class 'statsmodels.iolib.summary.Summary'>\n",
       "\"\"\"\n",
       "                            OLS Regression Results                            \n",
       "==============================================================================\n",
       "Dep. Variable:                testscr   R-squared:                       0.051\n",
       "Model:                            OLS   Adj. R-squared:                  0.049\n",
       "Method:                 Least Squares   F-statistic:                     22.58\n",
       "Date:                Sat, 25 Jul 2020   Prob (F-statistic):           2.78e-06\n",
       "Time:                        19:19:25   Log-Likelihood:                -1822.2\n",
       "No. Observations:                 420   AIC:                             3648.\n",
       "Df Residuals:                     418   BIC:                             3657.\n",
       "Df Model:                           1                                         \n",
       "Covariance Type:            nonrobust                                         \n",
       "==============================================================================\n",
       "                 coef    std err          t      P>|t|      [0.025      0.975]\n",
       "------------------------------------------------------------------------------\n",
       "const        698.9330      9.467     73.825      0.000     680.323     717.543\n",
       "str           -2.2798      0.480     -4.751      0.000      -3.223      -1.337\n",
       "==============================================================================\n",
       "Omnibus:                        5.390   Durbin-Watson:                   0.129\n",
       "Prob(Omnibus):                  0.068   Jarque-Bera (JB):                3.589\n",
       "Skew:                          -0.012   Prob(JB):                        0.166\n",
       "Kurtosis:                       2.548   Cond. No.                         207.\n",
       "==============================================================================\n",
       "\n",
       "Warnings:\n",
       "[1] Standard Errors assume that the covariance matrix of the errors is correctly specified.\n",
       "\"\"\""
      ]
     },
     "execution_count": 2,
     "metadata": {},
     "output_type": "execute_result"
    }
   ],
   "source": [
    "# Importing our usual library panda to read our data\n",
    "import pandas as pd\n",
    "import statsmodels.api as sm\n",
    "import math\n",
    "data = pd.read_csv('caschool.csv')\n",
    "x = data['str']\n",
    "y = data['testscr']\n",
    "x = sm.add_constant(x)\n",
    "model = sm.OLS(y, x).fit()\n",
    "predictions = model.predict(x)\n",
    "model.summary()\n"
   ]
  },
  {
   "cell_type": "code",
   "execution_count": 3,
   "metadata": {},
   "outputs": [
    {
     "data": {
      "image/png": "[encoded data removed]",
      "text/plain": [
       "<Figure size 432x288 with 1 Axes>"
      ]
     },
     "metadata": {
      "needs_background": "light"
     },
     "output_type": "display_data"
    }
   ],
   "source": [
    "# This is a way to see the data as histogram.\n",
    "# In the left part (Y coordinates) we see how many times that specific Test score has been achieved by California schools\n",
    "# On the bottom part (X coordinates) we see the test scores that has been achieved by California schools\n",
    "import matplotlib.pyplot as plt\n",
    "# Creates an histogram\n",
    "plt.hist(data.testscr)\n",
    "plt.title('Distribution of CA Test Scores')\n",
    "plt.ylabel('Frequency')\n",
    "plt.xlabel('Test Scores')\n",
    "plt.show()"
   ]
  },
  {
   "cell_type": "code",
   "execution_count": 4,
   "metadata": {},
   "outputs": [
    {
     "data": {
      "image/png": "[encoded data removed]",
      "text/plain": [
       "<Figure size 432x288 with 1 Axes>"
      ]
     },
     "metadata": {
      "needs_background": "light"
     },
     "output_type": "display_data"
    }
   ],
   "source": [
    "import numpy as np\n",
    "# This is almost identical with above except the fact that it shows more details as the bin is not default\n",
    "# It is set to 5 so it gives clearer picture about the data that we're dealing with\n",
    "plt.hist(data.testscr, bins = np.arange(min(data.testscr), max(data.testscr)+5, 5))\n",
    "plt.show()\n"
   ]
  },
  {
   "cell_type": "code",
   "execution_count": 5,
   "metadata": {},
   "outputs": [
    {
     "data": {
      "image/png": "[encoded data removed]",
      "text/plain": [
       "<Figure size 1080x1080 with 4 Axes>"
      ]
     },
     "metadata": {
      "needs_background": "light"
     },
     "output_type": "display_data"
    }
   ],
   "source": [
    "# This piece of code is to visualise the other variables that we have in the data\n",
    "# figsize shows how big we want the charts and 2, 2 part shows how many we want (i.e. 2x2 charts)\n",
    "f, axarr = plt.subplots(2, 2, figsize=(15,15))\n",
    "\n",
    "axarr[0,0].hist(data.testscr)\n",
    "axarr[0,0].set_title('Test Scores')\n",
    "\n",
    "axarr[0,1].hist(data.math_scr)\n",
    "axarr[0,1].set_title('Math Scores')\n",
    "\n",
    "axarr[1,1].hist(data.comp_stu)\n",
    "axarr[1,1].set_title('Computers per Student')\n",
    "\n",
    "axarr[1,0].hist(data.expn_stu)\n",
    "axarr[1,0].set_title('Expenditure per Student')\n",
    "\n",
    "plt.show()"
   ]
  },
  {
   "cell_type": "code",
   "execution_count": 6,
   "metadata": {},
   "outputs": [
    {
     "data": {
      "image/png": "[encoded data removed]",
      "text/plain": [
       "<Figure size 442.5x360 with 1 Axes>"
      ]
     },
     "metadata": {
      "needs_background": "light"
     },
     "output_type": "display_data"
    }
   ],
   "source": [
    "# Regression When X is a Binary Variable\n",
    "# In here before doing linear regression with dummy/binary variable, I want to show the data\n",
    "# by dividing the data into two subdivision\n",
    "# If the class size is smaller than 20, we denote the class as 1 (or Yes) \n",
    "# but if the class size is bigger or equal to 20, we denote the class as 0 (or no)\n",
    "# I also show the line of both of the subdivisions\n",
    "import seaborn as sns\n",
    "data['ClassSizeSmall'] = data['str'] < 20\n",
    "\n",
    "converter = {0:'No', 1:'Yes'}\n",
    "data.ClassSizeSmall = data.ClassSizeSmall.apply(lambda x: converter[x])\n",
    "\n",
    "# This part of the code is very similar with what we have done in the previous chapter.\n",
    "# We denote X and Y axes from the data and our cutoff condition is whether the class size is small or not\n",
    "# palette part of the code merely paints the two subsamples into different colours\n",
    "sns.lmplot(x='str', y='testscr', hue = 'ClassSizeSmall', data = data, ci=False, palette = {'Yes':'red','No':'blue'})\n",
    "\n",
    "plt.xlabel('Student Teacher ratio')\n",
    "plt.ylabel('Average Test Score')\n",
    "sns.despine()\n",
    "plt.show()"
   ]
  },
  {
   "cell_type": "code",
   "execution_count": 7,
   "metadata": {},
   "outputs": [
    {
     "data": {
      "text/html": [
       "<div>\n",
       "<style scoped>\n",
       "    .dataframe tbody tr th:only-of-type {\n",
       "        vertical-align: middle;\n",
       "    }\n",
       "\n",
       "    .dataframe tbody tr th {\n",
       "        vertical-align: top;\n",
       "    }\n",
       "\n",
       "    .dataframe thead th {\n",
       "        text-align: right;\n",
       "    }\n",
       "</style>\n",
       "<table border=\"1\" class=\"dataframe\">\n",
       "  <thead>\n",
       "    <tr style=\"text-align: right;\">\n",
       "      <th></th>\n",
       "      <th>Observation Number</th>\n",
       "      <th>dist_cod</th>\n",
       "      <th>county</th>\n",
       "      <th>district</th>\n",
       "      <th>gr_span</th>\n",
       "      <th>enrl_tot</th>\n",
       "      <th>teachers</th>\n",
       "      <th>calw_pct</th>\n",
       "      <th>meal_pct</th>\n",
       "      <th>computer</th>\n",
       "      <th>testscr</th>\n",
       "      <th>comp_stu</th>\n",
       "      <th>expn_stu</th>\n",
       "      <th>str</th>\n",
       "      <th>avginc</th>\n",
       "      <th>el_pct</th>\n",
       "      <th>read_scr</th>\n",
       "      <th>math_scr</th>\n",
       "      <th>ClassSizeSmall</th>\n",
       "    </tr>\n",
       "  </thead>\n",
       "  <tbody>\n",
       "    <tr>\n",
       "      <th>0</th>\n",
       "      <td>1</td>\n",
       "      <td>75119</td>\n",
       "      <td>Alameda</td>\n",
       "      <td>Sunol Glen Unified</td>\n",
       "      <td>KK-08</td>\n",
       "      <td>195</td>\n",
       "      <td>10.900000</td>\n",
       "      <td>0.510200</td>\n",
       "      <td>2.040800</td>\n",
       "      <td>67</td>\n",
       "      <td>690.799988</td>\n",
       "      <td>0.343590</td>\n",
       "      <td>6384.911133</td>\n",
       "      <td>17.889910</td>\n",
       "      <td>22.690001</td>\n",
       "      <td>0.000000</td>\n",
       "      <td>691.599976</td>\n",
       "      <td>690.000000</td>\n",
       "      <td>1</td>\n",
       "    </tr>\n",
       "    <tr>\n",
       "      <th>1</th>\n",
       "      <td>2</td>\n",
       "      <td>61499</td>\n",
       "      <td>Butte</td>\n",
       "      <td>Manzanita Elementary</td>\n",
       "      <td>KK-08</td>\n",
       "      <td>240</td>\n",
       "      <td>11.150000</td>\n",
       "      <td>15.416700</td>\n",
       "      <td>47.916698</td>\n",
       "      <td>101</td>\n",
       "      <td>661.200012</td>\n",
       "      <td>0.420833</td>\n",
       "      <td>5099.380859</td>\n",
       "      <td>21.524664</td>\n",
       "      <td>9.824000</td>\n",
       "      <td>4.583333</td>\n",
       "      <td>660.500000</td>\n",
       "      <td>661.900024</td>\n",
       "      <td>0</td>\n",
       "    </tr>\n",
       "    <tr>\n",
       "      <th>2</th>\n",
       "      <td>3</td>\n",
       "      <td>61549</td>\n",
       "      <td>Butte</td>\n",
       "      <td>Thermalito Union Elementary</td>\n",
       "      <td>KK-08</td>\n",
       "      <td>1550</td>\n",
       "      <td>82.900002</td>\n",
       "      <td>55.032299</td>\n",
       "      <td>76.322601</td>\n",
       "      <td>169</td>\n",
       "      <td>643.599976</td>\n",
       "      <td>0.109032</td>\n",
       "      <td>5501.954590</td>\n",
       "      <td>18.697226</td>\n",
       "      <td>8.978000</td>\n",
       "      <td>30.000002</td>\n",
       "      <td>636.299988</td>\n",
       "      <td>650.900024</td>\n",
       "      <td>1</td>\n",
       "    </tr>\n",
       "    <tr>\n",
       "      <th>3</th>\n",
       "      <td>4</td>\n",
       "      <td>61457</td>\n",
       "      <td>Butte</td>\n",
       "      <td>Golden Feather Union Elementary</td>\n",
       "      <td>KK-08</td>\n",
       "      <td>243</td>\n",
       "      <td>14.000000</td>\n",
       "      <td>36.475399</td>\n",
       "      <td>77.049202</td>\n",
       "      <td>85</td>\n",
       "      <td>647.700012</td>\n",
       "      <td>0.349794</td>\n",
       "      <td>7101.831055</td>\n",
       "      <td>17.357143</td>\n",
       "      <td>8.978000</td>\n",
       "      <td>0.000000</td>\n",
       "      <td>651.900024</td>\n",
       "      <td>643.500000</td>\n",
       "      <td>1</td>\n",
       "    </tr>\n",
       "    <tr>\n",
       "      <th>4</th>\n",
       "      <td>5</td>\n",
       "      <td>61523</td>\n",
       "      <td>Butte</td>\n",
       "      <td>Palermo Union Elementary</td>\n",
       "      <td>KK-08</td>\n",
       "      <td>1335</td>\n",
       "      <td>71.500000</td>\n",
       "      <td>33.108601</td>\n",
       "      <td>78.427002</td>\n",
       "      <td>171</td>\n",
       "      <td>640.849976</td>\n",
       "      <td>0.128090</td>\n",
       "      <td>5235.987793</td>\n",
       "      <td>18.671330</td>\n",
       "      <td>9.080333</td>\n",
       "      <td>13.857677</td>\n",
       "      <td>641.799988</td>\n",
       "      <td>639.900024</td>\n",
       "      <td>1</td>\n",
       "    </tr>\n",
       "    <tr>\n",
       "      <th>...</th>\n",
       "      <td>...</td>\n",
       "      <td>...</td>\n",
       "      <td>...</td>\n",
       "      <td>...</td>\n",
       "      <td>...</td>\n",
       "      <td>...</td>\n",
       "      <td>...</td>\n",
       "      <td>...</td>\n",
       "      <td>...</td>\n",
       "      <td>...</td>\n",
       "      <td>...</td>\n",
       "      <td>...</td>\n",
       "      <td>...</td>\n",
       "      <td>...</td>\n",
       "      <td>...</td>\n",
       "      <td>...</td>\n",
       "      <td>...</td>\n",
       "      <td>...</td>\n",
       "      <td>...</td>\n",
       "    </tr>\n",
       "    <tr>\n",
       "      <th>415</th>\n",
       "      <td>416</td>\n",
       "      <td>68957</td>\n",
       "      <td>San Mateo</td>\n",
       "      <td>Las Lomitas Elementary</td>\n",
       "      <td>KK-08</td>\n",
       "      <td>984</td>\n",
       "      <td>59.730000</td>\n",
       "      <td>0.101600</td>\n",
       "      <td>3.556900</td>\n",
       "      <td>195</td>\n",
       "      <td>704.300049</td>\n",
       "      <td>0.198171</td>\n",
       "      <td>7290.338867</td>\n",
       "      <td>16.474134</td>\n",
       "      <td>28.716999</td>\n",
       "      <td>5.995935</td>\n",
       "      <td>700.900024</td>\n",
       "      <td>707.700012</td>\n",
       "      <td>1</td>\n",
       "    </tr>\n",
       "    <tr>\n",
       "      <th>416</th>\n",
       "      <td>417</td>\n",
       "      <td>69518</td>\n",
       "      <td>Santa Clara</td>\n",
       "      <td>Los Altos Elementary</td>\n",
       "      <td>KK-08</td>\n",
       "      <td>3724</td>\n",
       "      <td>208.479996</td>\n",
       "      <td>1.074100</td>\n",
       "      <td>1.503800</td>\n",
       "      <td>721</td>\n",
       "      <td>706.750000</td>\n",
       "      <td>0.193609</td>\n",
       "      <td>5741.462891</td>\n",
       "      <td>17.862625</td>\n",
       "      <td>41.734108</td>\n",
       "      <td>4.726101</td>\n",
       "      <td>704.000000</td>\n",
       "      <td>709.500000</td>\n",
       "      <td>1</td>\n",
       "    </tr>\n",
       "    <tr>\n",
       "      <th>417</th>\n",
       "      <td>418</td>\n",
       "      <td>72611</td>\n",
       "      <td>Ventura</td>\n",
       "      <td>Somis Union Elementary</td>\n",
       "      <td>KK-08</td>\n",
       "      <td>441</td>\n",
       "      <td>20.150000</td>\n",
       "      <td>3.563500</td>\n",
       "      <td>37.193802</td>\n",
       "      <td>45</td>\n",
       "      <td>645.000000</td>\n",
       "      <td>0.102041</td>\n",
       "      <td>4402.831543</td>\n",
       "      <td>21.885857</td>\n",
       "      <td>23.733000</td>\n",
       "      <td>24.263039</td>\n",
       "      <td>648.299988</td>\n",
       "      <td>641.700012</td>\n",
       "      <td>0</td>\n",
       "    </tr>\n",
       "    <tr>\n",
       "      <th>418</th>\n",
       "      <td>419</td>\n",
       "      <td>72744</td>\n",
       "      <td>Yuba</td>\n",
       "      <td>Plumas Elementary</td>\n",
       "      <td>KK-08</td>\n",
       "      <td>101</td>\n",
       "      <td>5.000000</td>\n",
       "      <td>11.881200</td>\n",
       "      <td>59.405899</td>\n",
       "      <td>14</td>\n",
       "      <td>672.200012</td>\n",
       "      <td>0.138614</td>\n",
       "      <td>4776.336426</td>\n",
       "      <td>20.200001</td>\n",
       "      <td>9.952000</td>\n",
       "      <td>2.970297</td>\n",
       "      <td>667.900024</td>\n",
       "      <td>676.500000</td>\n",
       "      <td>0</td>\n",
       "    </tr>\n",
       "    <tr>\n",
       "      <th>419</th>\n",
       "      <td>420</td>\n",
       "      <td>72751</td>\n",
       "      <td>Yuba</td>\n",
       "      <td>Wheatland Elementary</td>\n",
       "      <td>KK-08</td>\n",
       "      <td>1778</td>\n",
       "      <td>93.400002</td>\n",
       "      <td>6.923500</td>\n",
       "      <td>47.571201</td>\n",
       "      <td>313</td>\n",
       "      <td>655.750000</td>\n",
       "      <td>0.176040</td>\n",
       "      <td>5993.392578</td>\n",
       "      <td>19.036402</td>\n",
       "      <td>12.502000</td>\n",
       "      <td>5.005624</td>\n",
       "      <td>660.500000</td>\n",
       "      <td>651.000000</td>\n",
       "      <td>1</td>\n",
       "    </tr>\n",
       "  </tbody>\n",
       "</table>\n",
       "<p>420 rows × 19 columns</p>\n",
       "</div>"
      ],
      "text/plain": [
       "     Observation Number  dist_cod       county  \\\n",
       "0                     1     75119      Alameda   \n",
       "1                     2     61499        Butte   \n",
       "2                     3     61549        Butte   \n",
       "3                     4     61457        Butte   \n",
       "4                     5     61523        Butte   \n",
       "..                  ...       ...          ...   \n",
       "415                 416     68957    San Mateo   \n",
       "416                 417     69518  Santa Clara   \n",
       "417                 418     72611      Ventura   \n",
       "418                 419     72744         Yuba   \n",
       "419                 420     72751         Yuba   \n",
       "\n",
       "                            district gr_span  enrl_tot    teachers   calw_pct  \\\n",
       "0                 Sunol Glen Unified   KK-08       195   10.900000   0.510200   \n",
       "1               Manzanita Elementary   KK-08       240   11.150000  15.416700   \n",
       "2        Thermalito Union Elementary   KK-08      1550   82.900002  55.032299   \n",
       "3    Golden Feather Union Elementary   KK-08       243   14.000000  36.475399   \n",
       "4           Palermo Union Elementary   KK-08      1335   71.500000  33.108601   \n",
       "..                               ...     ...       ...         ...        ...   \n",
       "415           Las Lomitas Elementary   KK-08       984   59.730000   0.101600   \n",
       "416             Los Altos Elementary   KK-08      3724  208.479996   1.074100   \n",
       "417           Somis Union Elementary   KK-08       441   20.150000   3.563500   \n",
       "418                Plumas Elementary   KK-08       101    5.000000  11.881200   \n",
       "419             Wheatland Elementary   KK-08      1778   93.400002   6.923500   \n",
       "\n",
       "      meal_pct  computer     testscr  comp_stu     expn_stu        str  \\\n",
       "0     2.040800        67  690.799988  0.343590  6384.911133  17.889910   \n",
       "1    47.916698       101  661.200012  0.420833  5099.380859  21.524664   \n",
       "2    76.322601       169  643.599976  0.109032  5501.954590  18.697226   \n",
       "3    77.049202        85  647.700012  0.349794  7101.831055  17.357143   \n",
       "4    78.427002       171  640.849976  0.128090  5235.987793  18.671330   \n",
       "..         ...       ...         ...       ...          ...        ...   \n",
       "415   3.556900       195  704.300049  0.198171  7290.338867  16.474134   \n",
       "416   1.503800       721  706.750000  0.193609  5741.462891  17.862625   \n",
       "417  37.193802        45  645.000000  0.102041  4402.831543  21.885857   \n",
       "418  59.405899        14  672.200012  0.138614  4776.336426  20.200001   \n",
       "419  47.571201       313  655.750000  0.176040  5993.392578  19.036402   \n",
       "\n",
       "        avginc     el_pct    read_scr    math_scr  ClassSizeSmall  \n",
       "0    22.690001   0.000000  691.599976  690.000000               1  \n",
       "1     9.824000   4.583333  660.500000  661.900024               0  \n",
       "2     8.978000  30.000002  636.299988  650.900024               1  \n",
       "3     8.978000   0.000000  651.900024  643.500000               1  \n",
       "4     9.080333  13.857677  641.799988  639.900024               1  \n",
       "..         ...        ...         ...         ...             ...  \n",
       "415  28.716999   5.995935  700.900024  707.700012               1  \n",
       "416  41.734108   4.726101  704.000000  709.500000               1  \n",
       "417  23.733000  24.263039  648.299988  641.700012               0  \n",
       "418   9.952000   2.970297  667.900024  676.500000               0  \n",
       "419  12.502000   5.005624  660.500000  651.000000               1  \n",
       "\n",
       "[420 rows x 19 columns]"
      ]
     },
     "execution_count": 7,
     "metadata": {},
     "output_type": "execute_result"
    }
   ],
   "source": [
    "# This is our condition: if the str is smaller than 20, make it True and otherwise False\n",
    "# In Python language True depicts for 1 and False depicts for 0\n",
    "data['ClassSizeSmall'] = data['str'] < 20\n",
    "\n",
    "# This is where we state to convert False to actually 0 and True to an actual 1. This is part may seem to be redundant but \n",
    "# for visualisation of our data, it is good\n",
    "converter = {False:0, True:1}\n",
    "\n",
    "# This is where we actually make the conversion in our data\n",
    "data.ClassSizeSmall = data.ClassSizeSmall.apply(lambda x: converter[x])\n",
    "\n",
    "# Now let's see our data. Note that the newly created dummy column is at the very end\n",
    "data"
   ]
  },
  {
   "cell_type": "code",
   "execution_count": 23,
   "metadata": {},
   "outputs": [
    {
     "data": {
      "text/html": [
       "<table class=\"simpletable\">\n",
       "<caption>OLS Regression Results</caption>\n",
       "<tr>\n",
       "  <th>Dep. Variable:</th>         <td>testscr</td>     <th>  R-squared:         </th> <td>   0.037</td>\n",
       "</tr>\n",
       "<tr>\n",
       "  <th>Model:</th>                   <td>OLS</td>       <th>  Adj. R-squared:    </th> <td>   0.035</td>\n",
       "</tr>\n",
       "<tr>\n",
       "  <th>Method:</th>             <td>Least Squares</td>  <th>  F-statistic:       </th> <td>   15.99</td>\n",
       "</tr>\n",
       "<tr>\n",
       "  <th>Date:</th>             <td>Sat, 25 Jul 2020</td> <th>  Prob (F-statistic):</th> <td>7.52e-05</td>\n",
       "</tr>\n",
       "<tr>\n",
       "  <th>Time:</th>                 <td>09:42:16</td>     <th>  Log-Likelihood:    </th> <td> -1825.4</td>\n",
       "</tr>\n",
       "<tr>\n",
       "  <th>No. Observations:</th>      <td>   420</td>      <th>  AIC:               </th> <td>   3655.</td>\n",
       "</tr>\n",
       "<tr>\n",
       "  <th>Df Residuals:</th>          <td>   418</td>      <th>  BIC:               </th> <td>   3663.</td>\n",
       "</tr>\n",
       "<tr>\n",
       "  <th>Df Model:</th>              <td>     1</td>      <th>                     </th>     <td> </td>   \n",
       "</tr>\n",
       "<tr>\n",
       "  <th>Covariance Type:</th>      <td>nonrobust</td>    <th>                     </th>     <td> </td>   \n",
       "</tr>\n",
       "</table>\n",
       "<table class=\"simpletable\">\n",
       "<tr>\n",
       "         <td></td>           <th>coef</th>     <th>std err</th>      <th>t</th>      <th>P>|t|</th>  <th>[0.025</th>    <th>0.975]</th>  \n",
       "</tr>\n",
       "<tr>\n",
       "  <th>const</th>          <td>  649.9788</td> <td>    1.388</td> <td>  468.380</td> <td> 0.000</td> <td>  647.251</td> <td>  652.707</td>\n",
       "</tr>\n",
       "<tr>\n",
       "  <th>ClassSizeSmall</th> <td>    7.3724</td> <td>    1.843</td> <td>    3.999</td> <td> 0.000</td> <td>    3.749</td> <td>   10.996</td>\n",
       "</tr>\n",
       "</table>\n",
       "<table class=\"simpletable\">\n",
       "<tr>\n",
       "  <th>Omnibus:</th>       <td> 3.061</td> <th>  Durbin-Watson:     </th> <td>   0.110</td>\n",
       "</tr>\n",
       "<tr>\n",
       "  <th>Prob(Omnibus):</th> <td> 0.216</td> <th>  Jarque-Bera (JB):  </th> <td>   2.448</td>\n",
       "</tr>\n",
       "<tr>\n",
       "  <th>Skew:</th>          <td> 0.052</td> <th>  Prob(JB):          </th> <td>   0.294</td>\n",
       "</tr>\n",
       "<tr>\n",
       "  <th>Kurtosis:</th>      <td> 2.641</td> <th>  Cond. No.          </th> <td>    2.81</td>\n",
       "</tr>\n",
       "</table><br/><br/>Warnings:<br/>[1] Standard Errors assume that the covariance matrix of the errors is correctly specified."
      ],
      "text/plain": [
       "<class 'statsmodels.iolib.summary.Summary'>\n",
       "\"\"\"\n",
       "                            OLS Regression Results                            \n",
       "==============================================================================\n",
       "Dep. Variable:                testscr   R-squared:                       0.037\n",
       "Model:                            OLS   Adj. R-squared:                  0.035\n",
       "Method:                 Least Squares   F-statistic:                     15.99\n",
       "Date:                Sat, 25 Jul 2020   Prob (F-statistic):           7.52e-05\n",
       "Time:                        09:42:16   Log-Likelihood:                -1825.4\n",
       "No. Observations:                 420   AIC:                             3655.\n",
       "Df Residuals:                     418   BIC:                             3663.\n",
       "Df Model:                           1                                         \n",
       "Covariance Type:            nonrobust                                         \n",
       "==================================================================================\n",
       "                     coef    std err          t      P>|t|      [0.025      0.975]\n",
       "----------------------------------------------------------------------------------\n",
       "const            649.9788      1.388    468.380      0.000     647.251     652.707\n",
       "ClassSizeSmall     7.3724      1.843      3.999      0.000       3.749      10.996\n",
       "==============================================================================\n",
       "Omnibus:                        3.061   Durbin-Watson:                   0.110\n",
       "Prob(Omnibus):                  0.216   Jarque-Bera (JB):                2.448\n",
       "Skew:                           0.052   Prob(JB):                        0.294\n",
       "Kurtosis:                       2.641   Cond. No.                         2.81\n",
       "==============================================================================\n",
       "\n",
       "Warnings:\n",
       "[1] Standard Errors assume that the covariance matrix of the errors is correctly specified.\n",
       "\"\"\""
      ]
     },
     "execution_count": 23,
     "metadata": {},
     "output_type": "execute_result"
    }
   ],
   "source": [
    "# Now we're going to be doing an actual\n",
    "# We firstly import the library statsmodels.api for OLS with Binary Variable\n",
    "import statsmodels.api as sm\n",
    "\n",
    "# These steps are all explained before so we won't be diving into that again. \n",
    "x = data['ClassSizeSmall']\n",
    "y = data['testscr']\n",
    "x = sm.add_constant(x)\n",
    "model = sm.OLS(y, x).fit()\n",
    "predictions = model.predict(x)\n",
    "model.summary()\n"
   ]
  },
  {
   "cell_type": "code",
   "execution_count": 26,
   "metadata": {},
   "outputs": [
    {
     "data": {
      "text/html": [
       "<table class=\"simpletable\">\n",
       "<caption>OLS Regression Results</caption>\n",
       "<tr>\n",
       "  <th>Dep. Variable:</th>         <td>testscr</td>     <th>  R-squared:         </th> <td>   0.037</td>\n",
       "</tr>\n",
       "<tr>\n",
       "  <th>Model:</th>                   <td>OLS</td>       <th>  Adj. R-squared:    </th> <td>   0.035</td>\n",
       "</tr>\n",
       "<tr>\n",
       "  <th>Method:</th>             <td>Least Squares</td>  <th>  F-statistic:       </th> <td>   16.34</td>\n",
       "</tr>\n",
       "<tr>\n",
       "  <th>Date:</th>             <td>Sat, 25 Jul 2020</td> <th>  Prob (F-statistic):</th> <td>6.29e-05</td>\n",
       "</tr>\n",
       "<tr>\n",
       "  <th>Time:</th>                 <td>10:05:44</td>     <th>  Log-Likelihood:    </th> <td> -1825.4</td>\n",
       "</tr>\n",
       "<tr>\n",
       "  <th>No. Observations:</th>      <td>   420</td>      <th>  AIC:               </th> <td>   3655.</td>\n",
       "</tr>\n",
       "<tr>\n",
       "  <th>Df Residuals:</th>          <td>   418</td>      <th>  BIC:               </th> <td>   3663.</td>\n",
       "</tr>\n",
       "<tr>\n",
       "  <th>Df Model:</th>              <td>     1</td>      <th>                     </th>     <td> </td>   \n",
       "</tr>\n",
       "<tr>\n",
       "  <th>Covariance Type:</th>         <td>HC1</td>       <th>                     </th>     <td> </td>   \n",
       "</tr>\n",
       "</table>\n",
       "<table class=\"simpletable\">\n",
       "<tr>\n",
       "         <td></td>           <th>coef</th>     <th>std err</th>      <th>z</th>      <th>P>|z|</th>  <th>[0.025</th>    <th>0.975]</th>  \n",
       "</tr>\n",
       "<tr>\n",
       "  <th>const</th>          <td>  649.9788</td> <td>    1.323</td> <td>  491.332</td> <td> 0.000</td> <td>  647.386</td> <td>  652.572</td>\n",
       "</tr>\n",
       "<tr>\n",
       "  <th>ClassSizeSmall</th> <td>    7.3724</td> <td>    1.824</td> <td>    4.043</td> <td> 0.000</td> <td>    3.798</td> <td>   10.947</td>\n",
       "</tr>\n",
       "</table>\n",
       "<table class=\"simpletable\">\n",
       "<tr>\n",
       "  <th>Omnibus:</th>       <td> 3.061</td> <th>  Durbin-Watson:     </th> <td>   0.110</td>\n",
       "</tr>\n",
       "<tr>\n",
       "  <th>Prob(Omnibus):</th> <td> 0.216</td> <th>  Jarque-Bera (JB):  </th> <td>   2.448</td>\n",
       "</tr>\n",
       "<tr>\n",
       "  <th>Skew:</th>          <td> 0.052</td> <th>  Prob(JB):          </th> <td>   0.294</td>\n",
       "</tr>\n",
       "<tr>\n",
       "  <th>Kurtosis:</th>      <td> 2.641</td> <th>  Cond. No.          </th> <td>    2.81</td>\n",
       "</tr>\n",
       "</table><br/><br/>Warnings:<br/>[1] Standard Errors are heteroscedasticity robust (HC1)"
      ],
      "text/plain": [
       "<class 'statsmodels.iolib.summary.Summary'>\n",
       "\"\"\"\n",
       "                            OLS Regression Results                            \n",
       "==============================================================================\n",
       "Dep. Variable:                testscr   R-squared:                       0.037\n",
       "Model:                            OLS   Adj. R-squared:                  0.035\n",
       "Method:                 Least Squares   F-statistic:                     16.34\n",
       "Date:                Sat, 25 Jul 2020   Prob (F-statistic):           6.29e-05\n",
       "Time:                        10:05:44   Log-Likelihood:                -1825.4\n",
       "No. Observations:                 420   AIC:                             3655.\n",
       "Df Residuals:                     418   BIC:                             3663.\n",
       "Df Model:                           1                                         \n",
       "Covariance Type:                  HC1                                         \n",
       "==================================================================================\n",
       "                     coef    std err          z      P>|z|      [0.025      0.975]\n",
       "----------------------------------------------------------------------------------\n",
       "const            649.9788      1.323    491.332      0.000     647.386     652.572\n",
       "ClassSizeSmall     7.3724      1.824      4.043      0.000       3.798      10.947\n",
       "==============================================================================\n",
       "Omnibus:                        3.061   Durbin-Watson:                   0.110\n",
       "Prob(Omnibus):                  0.216   Jarque-Bera (JB):                2.448\n",
       "Skew:                           0.052   Prob(JB):                        0.294\n",
       "Kurtosis:                       2.641   Cond. No.                         2.81\n",
       "==============================================================================\n",
       "\n",
       "Warnings:\n",
       "[1] Standard Errors are heteroscedasticity robust (HC1)\n",
       "\"\"\""
      ]
     },
     "execution_count": 26,
     "metadata": {},
     "output_type": "execute_result"
    }
   ],
   "source": [
    "# Now it is time for doing Heteroskedastic robust standard error OLS.\n",
    "# Almost all the steps are the same except we add cov_type into the fit function and we make it equal to 'HC1'\n",
    "x = data['ClassSizeSmall']\n",
    "y = data['testscr']\n",
    "x = sm.add_constant(x)\n",
    "model = sm.OLS(y, x).fit(cov_type='HC1')\n",
    "predictions = model.predict(x)\n",
    "model.summary()\n"
   ]
  },
  {
   "cell_type": "code",
   "execution_count": 49,
   "metadata": {},
   "outputs": [
    {
     "data": {
      "image/png": "[encoded data removed]",
      "text/plain": [
       "<Figure size 432x288 with 1 Axes>"
      ]
     },
     "metadata": {
      "needs_background": "light"
     },
     "output_type": "display_data"
    }
   ],
   "source": [
    "# This code is to see the separated data and how both of the subsamples are doing in terms of Testscr\n",
    "# We have already separated the data so we do not need to do it again\n",
    "# We change 0 to larger class and 1 to smaller class\n",
    "converter = {0:\"larger class\", 1:\"smaller class\"}\n",
    "\n",
    "# We put the data and the labels for the subsamples in here\n",
    "data['classlabels'] = data.ClassSizeSmall.apply(lambda x: converter[x])\n",
    "sns.boxplot(x=\"classlabels\", y=\"testscr\", data=data)\n",
    "\n",
    "# This is what is going to write on the X axis\n",
    "plt.xlabel('Small or Large Class')\n",
    "sns.despine()\n",
    "\n",
    "# print out the output\n",
    "plt.show()"
   ]
  },
  {
   "cell_type": "code",
   "execution_count": 50,
   "metadata": {},
   "outputs": [
    {
     "data": {
      "image/png": "[encoded data removed]",
      "text/plain": [
       "<Figure size 432x288 with 1 Axes>"
      ]
     },
     "metadata": {
      "needs_background": "light"
     },
     "output_type": "display_data"
    }
   ],
   "source": [
    "# This is the same but with different colours\n",
    "converter = {0:\"larger class\", 1:\"smaller class\"}\n",
    "data['classlabels'] = data.ClassSizeSmall.apply(lambda x: converter[x])\n",
    "sns.boxplot(x=\"classlabels\", y=\"testscr\", data=data, palette='Set3')\n",
    "plt.xlabel('Small or Large Class')\n",
    "sns.despine()\n",
    "plt.show()"
   ]
  },
  {
   "cell_type": "code",
   "execution_count": 51,
   "metadata": {},
   "outputs": [],
   "source": [
    "# Now let's go to the Practice questions"
   ]
  },
  {
   "cell_type": "code",
   "execution_count": 60,
   "metadata": {},
   "outputs": [
    {
     "name": "stdout",
     "output_type": "stream",
     "text": [
      "The 95% CI for B1 is: -10.1515 <= B1 <= -1.4885\n",
      "We can reject the null hypothesis because the p-val is 0.0085\n",
      "We cannot reject the null hypothesis because the p-val is 0.9207\n",
      "The 99% CI for B0 is: 467.8531 <= B1 <= 572.9469\n"
     ]
    }
   ],
   "source": [
    "#1\n",
    "#a\n",
    "import scipy.stats as st\n",
    "print('The 95% CI for B1 is: {0:.4f} <= B1 <= {1:.4f}'.format(-5.82-(st.norm.ppf(1-(0.05/2))*2.21), -5.82+(st.norm.ppf(1-(0.05/2))*2.21)))\n",
    "#b\n",
    "t_act = -5.82/2.21\n",
    "p_value = 2 * st.norm.cdf(-abs(t_act))\n",
    "def function(x):\n",
    "    if x < 0.05:\n",
    "        print(\"We can reject the null hypothesis because the p-val is {:.4f}\".format(p_value))\n",
    "    else:\n",
    "        print(\"We cannot reject the null hypothesis because the p-val is {:.4f}\".format(p_value))\n",
    "function(p_value)\n",
    "#c\n",
    "t_act = (5.82-5.6) / 2.21\n",
    "p_value = 2 * st.norm.cdf(-abs(t_act))\n",
    "function(p_value)\n",
    "#d\n",
    "print('The 99% CI for B0 is: {0:.4f} <= B0 <= {1:.4f}'.format(520.4-(st.norm.ppf(1-(0.01/2))*20.4), 520.4+(st.norm.ppf(1-(0.01/2))*20.4)))"
   ]
  },
  {
   "cell_type": "code",
   "execution_count": 75,
   "metadata": {},
   "outputs": [
    {
     "name": "stdout",
     "output_type": "stream",
     "text": [
      "The estimated gender gap equals to 2.12\n",
      "We can reject the null hypothesis because the p-val is 0.0000\n",
      "The 95% CI is: 1.4144, 2.8256\n",
      "Sample average wage of Women: 12.52. Sample average wage of Men 14.64\n"
     ]
    }
   ],
   "source": [
    "#2\n",
    "#a\n",
    "print(\"The estimated gender gap equals to 2.12\")\n",
    "#b\n",
    "t_act = 2.12 / 0.36\n",
    "p_value = 2 * st.norm.cdf(-abs(t_act))\n",
    "function(p_value)\n",
    "#c\n",
    "print('The 95% CI for B1 is: {0:.4f}, {1:.4f}'.format(2.12-(st.norm.ppf(1-(0.05/2))*0.36), 2.12+(st.norm.ppf(1-(0.05/2))*0.36)))\n",
    "#d\n",
    "print(\"Sample average wage of Women: {0}. Sample average wage of Men {1}\".format(12.52, 12.52+2.12))"
   ]
  },
  {
   "cell_type": "code",
   "execution_count": 77,
   "metadata": {},
   "outputs": [
    {
     "name": "stdout",
     "output_type": "stream",
     "text": [
      "The 99% CI is: 4.7122, 7.1078\n"
     ]
    }
   ],
   "source": [
    "#3\n",
    "print('The 99% CI is: {0:.4f}, {1:.4f}'.format(1.5*(3.94-(st.norm.ppf(1-(0.01/2))*0.31)), 1.5*(3.94+(st.norm.ppf(1-(0.01/2))*0.31))))"
   ]
  },
  {
   "cell_type": "code",
   "execution_count": 85,
   "metadata": {},
   "outputs": [
    {
     "name": "stdout",
     "output_type": "stream",
     "text": [
      "The worker's expected average hourly earnings: 25.8000\n",
      "The worker's average hourly earnings expected to increase 4.7400\n",
      "We cannot reject the null hypothesis because the p-val is 0.1936\n",
      "The 95% CI is: 8.6960, 10.2640\n"
     ]
    }
   ],
   "source": [
    "#4\n",
    "#a\n",
    "print(\"The worker's expected average hourly earnings: {:.4f}\".format(-12.12 + 2.37*16))\n",
    "#b\n",
    "print(\"The worker's average hourly earnings expected to increase {:.4f}\".format(2.37*2))\n",
    "#c\n",
    "t_act = (2.37 - (10/4)) / 0.1\n",
    "p_value = 2 * st.norm.cdf(-abs(t_act))\n",
    "function(p_value)\n",
    "print('The 95% CI is: {0:.4f}, {1:.4f}'.format(4*(2.37-(st.norm.ppf(1-(0.05/2))*0.1)), 4*(2.37+(st.norm.ppf(1-(0.05/2))*0.10))))"
   ]
  },
  {
   "cell_type": "code",
   "execution_count": 83,
   "metadata": {},
   "outputs": [
    {
     "name": "stdout",
     "output_type": "stream",
     "text": [
      "We can reject the null hypothesis because the p-val is 0.0000\n",
      "The 99% CI is: 7.4604, 20.3396\n"
     ]
    }
   ],
   "source": [
    "#5\n",
    "#a is skipped\n",
    "#b\n",
    "t_act = 13.9 / 2.5\n",
    "p_value = 2 * st.norm.cdf(-abs(t_act))\n",
    "function(p_value)\n",
    "#c\n",
    "print('The 99% CI is: {0:.4f}, {1:.4f}'.format(13.9-(st.norm.ppf(1-(0.01/2))*2.5), 13.9+(st.norm.ppf(1-(0.01/2))*2.5)))"
   ]
  },
  {
   "cell_type": "code",
   "execution_count": 84,
   "metadata": {},
   "outputs": [],
   "source": [
    "#6 is explanation question - skipped"
   ]
  },
  {
   "cell_type": "code",
   "execution_count": 87,
   "metadata": {},
   "outputs": [
    {
     "name": "stdout",
     "output_type": "stream",
     "text": [
      "We can reject the null hypothesis because the p-val is 0.0375\n",
      "The 95% CI is: 0.2601, 6.1399\n"
     ]
    }
   ],
   "source": [
    "#7\n",
    "#a\n",
    "t_act = 3.12 / 1.5\n",
    "p_value = 2 * st.norm.cdf(-abs(t_act))\n",
    "function(p_value)\n",
    "#b\n",
    "print('The 95% CI is: {0:.4f}, {1:.4f}'.format(3.2-(st.norm.ppf(1-(0.05/2))*1.5), 3.2+(st.norm.ppf(1-(0.05/2))*1.5)))\n",
    "#c and d is skipped because they're explanation questions"
   ]
  },
  {
   "cell_type": "code",
   "execution_count": 109,
   "metadata": {},
   "outputs": [
    {
     "name": "stdout",
     "output_type": "stream",
     "text": [
      "The 95% CI is: 22.3062, 64.0938\n",
      "We cannot reject the null hypothesis because the p-val is 0.3872\n",
      "The Critical Value for one sided is 1.701130934265931, that means we cannot reject the null hypothesis\n"
     ]
    }
   ],
   "source": [
    "#8\n",
    "#a\n",
    "print('The 95% CI is: {0:.4f}, {1:.4f}'.format(43.2-(st.t.ppf(1-(0.05/2), 30-2)*10.2), 43.2+(st.t.ppf(1-(0.05/2), 30-2)*10.2)))\n",
    "#b\n",
    "t_act = (61.5 - 55) / 7.4\n",
    "p_value = 2 * st.t.cdf(-abs(t_act), 30-2)\n",
    "function(p_value)\n",
    "#c\n",
    "print(\"The Critical Value for one sided is {}, that means we cannot reject the null hypothesis\".format(st.t.ppf(1-0.05, 30-2)))\n"
   ]
  },
  {
   "cell_type": "code",
   "execution_count": null,
   "metadata": {},
   "outputs": [],
   "source": []
  }
 ],
 "metadata": {
  "kernelspec": {
   "display_name": "Python 3",
   "language": "python",
   "name": "python3"
  },
  "language_info": {
   "codemirror_mode": {
    "name": "ipython",
    "version": 3
   },
   "file_extension": ".py",
   "mimetype": "text/x-python",
   "name": "python",
   "nbconvert_exporter": "python",
   "pygments_lexer": "ipython3",
   "version": "3.7.6"
  }
 },
 "nbformat": 4,
 "nbformat_minor": 4
}
