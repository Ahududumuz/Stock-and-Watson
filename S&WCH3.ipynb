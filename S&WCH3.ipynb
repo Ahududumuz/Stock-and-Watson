{
 "cells": [
  {
   "cell_type": "code",
   "execution_count": 1,
   "metadata": {},
   "outputs": [
    {
     "name": "stdout",
     "output_type": "stream",
     "text": [
      "0.9363686681897804\n",
      "0.11110848082068059\n",
      "0.9999553120411752\n"
     ]
    }
   ],
   "source": [
    "#1\n",
    "#a n=100, P(Y<101)\n",
    "import scipy.stats as st\n",
    "import math\n",
    "print(st.norm.cdf((101-100)/math.sqrt(43/100)))\n",
    "#b n=64, P(101<Y<103)\n",
    "print(st.norm.cdf((103-100)/math.sqrt(43/64)) - st.norm.cdf((101-100)/math.sqrt(43/64)))\n",
    "#c n=165, P(Y>98)\n",
    "print(1 - st.norm.cdf((98-100)/math.sqrt(43/165)))"
   ]
  },
  {
   "cell_type": "code",
   "execution_count": 4,
   "metadata": {},
   "outputs": [],
   "source": [
    "#2\n",
    "# proof question - skipped"
   ]
  },
  {
   "cell_type": "code",
   "execution_count": 13,
   "metadata": {},
   "outputs": [
    {
     "name": "stdout",
     "output_type": "stream",
     "text": [
      "P is equal to 0.5375\n",
      "The estimated variance is 0.000621484375\n",
      "The standard error is 0.02492958834397391\n",
      "The P-val is 0.13252044880555006\n",
      "The P-val is 0.06626022440277501\n"
     ]
    }
   ],
   "source": [
    "#3\n",
    "#a\n",
    "print(\"P is equal to\", 215/400)\n",
    "#b\n",
    "EstimatedVariance = ((215/400) * (1 - (215/400))) / 400\n",
    "print(\"The estimated variance is\", EstimatedVariance)\n",
    "print(\"The standard error is\", math.sqrt(EstimatedVariance))\n",
    "#c #two sided P-val calculation\n",
    "T_act = ((215/400) - 0.5) / (math.sqrt(EstimatedVariance))\n",
    "print(\"The P-val is\", 2 * (st.norm.cdf(-abs(T_act))))\n",
    "#d #one sided P-val calculation\n",
    "print(\"The P-val is\", 1 - st.norm.cdf(T_act))\n",
    "#e and f are writing questions - skipped"
   ]
  },
  {
   "cell_type": "code",
   "execution_count": 31,
   "metadata": {},
   "outputs": [
    {
     "name": "stdout",
     "output_type": "stream",
     "text": [
      "95% confidence interval for P would be (0.4886389046964016, 0.5863610953035984)\n",
      "99% confidence interval for P would be (0.4732856358181809, 0.6017143641818191)\n",
      "We cannot reject the null hypothesis\n"
     ]
    }
   ],
   "source": [
    "#4\n",
    "#a #95% CI\n",
    "print(\"95% confidence interval for P would be\", (((215/400)-st.norm.ppf((1-0.05/2))*math.sqrt(EstimatedVariance)),((215/400)+st.norm.ppf((1-0.05/2))*math.sqrt(EstimatedVariance))))\n",
    "#b #99% CI\n",
    "print(\"99% confidence interval for P would be\", (((215/400)-st.norm.ppf((1-0.01/2))*math.sqrt(EstimatedVariance)),((215/400)+st.norm.ppf((1-0.01/2))*math.sqrt(EstimatedVariance))))\n",
    "#c\n",
    "# 99% is wider because of larger critical values\n",
    "#d #if 0.5 is in between the CI, we cannot reject the null but otherwise we must reject the null hypothesis.\n",
    "if ((215/400)-st.norm.ppf((1-0.05/2))*math.sqrt(EstimatedVariance)) < 0.5 < ((215/400)+st.norm.ppf((1-0.05/2))*math.sqrt(EstimatedVariance)):\n",
    "    print(\"We cannot reject the null hypothesis\")\n",
    "else:\n",
    "    print(\"We reject the null hypothesis\")"
   ]
  },
  {
   "cell_type": "code",
   "execution_count": 18,
   "metadata": {},
   "outputs": [
    {
     "name": "stdout",
     "output_type": "stream",
     "text": [
      "0.19386482312435538\n",
      "0.742977327999914\n",
      "We can reject the null hypothesis at 1% level\n",
      "0.004527111132967332\n",
      "95% CI for P would be (0.5099255525465433, 0.5700744474534568)\n",
      "99% CI for P would be (0.5004754762588994, 0.5795245237411006)\n",
      "99% CI for P would be (0.5296503677056457, 0.5503496322943544)\n",
      "The probability is 0.3584859224085419\n",
      "95% of the 20 confidence intervals - 19\n",
      "N should be at least 9604\n"
     ]
    }
   ],
   "source": [
    "#5\n",
    "#a\n",
    "#i\n",
    "print(1 - (st.norm.cdf((0.02)/math.sqrt(0.5*0.5/1055)) - st.norm.cdf((-0.02)/math.sqrt(0.5*0.5/1055))))\n",
    "#ii\n",
    "print(1 - (st.norm.cdf((0.02-0.03)/math.sqrt(0.53*0.47/1055)) - st.norm.cdf((-0.02-0.03)/math.sqrt(0.53*0.47/1055))))\n",
    "#b\n",
    "#i\n",
    "t = (0.54-0.5) / math.sqrt(0.54*0.46/1055)\n",
    "if t < st.norm.ppf(1 - (0.05/2)):\n",
    "    print(\"We cannot reject the null hypothesis\")\n",
    "elif t >= st.norm.ppf((1 - (0.01/2))):\n",
    "    print(\"We can reject the null hypothesis at 1% level\")\n",
    "elif t >= st.norm.ppf((1 - (0.05/2))):\n",
    "    print(\"We can reject the null hypothesis at 5% level\")\n",
    "#ii\n",
    "print(1 - st.norm.cdf(2.61))\n",
    "#iii\n",
    "print(\"95% CI for P would be\", ((0.54 - st.norm.ppf(1 - (0.05/2)) * math.sqrt(0.54*0.46/1055)), 0.54 + st.norm.ppf(1 - (0.05/2)) * math.sqrt(0.54*0.46/1055)))\n",
    "#iv\n",
    "print(\"99% CI for P would be\", ((0.54 - st.norm.ppf(1 - (0.01/2)) * math.sqrt(0.54*0.46/1055)), 0.54 + st.norm.ppf(1 - (0.01/2)) * math.sqrt(0.54*0.46/1055)))\n",
    "#v\n",
    "print(\"50%CI for P would be\", ((0.54 - st.norm.ppf(1 - (0.5/2)) * math.sqrt(0.54*0.46/1055)), 0.54 + st.norm.ppf(1 - (0.5/2)) * math.sqrt(0.54*0.46/1055)))\n",
    "#c\n",
    "#i\n",
    "print(\"The probability is\", math.pow(0.95, 20))\n",
    "#ii\n",
    "print(\"95% of the 20 confidence intervals - 19\")\n",
    "#d\n",
    "N = 1\n",
    "while True:\n",
    "    if math.pow(st.norm.ppf(1 - (0.05 / 2)),2) * 0.5 * 0.5 / 0.01**2 > N:\n",
    "        N += 1\n",
    "        continue\n",
    "    else:\n",
    "        print(\"N should be at least\", N)\n",
    "        break"
   ]
  },
  {
   "cell_type": "code",
   "execution_count": 19,
   "metadata": {},
   "outputs": [],
   "source": [
    "#6\n",
    "# explanation question"
   ]
  },
  {
   "cell_type": "code",
   "execution_count": 26,
   "metadata": {},
   "outputs": [
    {
     "name": "stdout",
     "output_type": "stream",
     "text": [
      "The value is 0.006755111323472696\n"
     ]
    }
   ],
   "source": [
    "#7\n",
    "SE = math.sqrt(0.08 * (1 - 0.08) / 600)\n",
    "t = (0.08-0.11) / SE\n",
    "print(\"The value is\", 2 * st.norm.cdf(-abs(t)))"
   ]
  },
  {
   "cell_type": "code",
   "execution_count": 28,
   "metadata": {},
   "outputs": [
    {
     "name": "stdout",
     "output_type": "stream",
     "text": [
      "The Confidence Interval is (1092.376521102654, 1107.623478897346)\n"
     ]
    }
   ],
   "source": [
    "#8\n",
    "print(\"The Confidence Interval is\", ((1100 - st.norm.ppf(1 - (0.05/2)) * (123/math.sqrt(1000))), (1100 + st.norm.ppf(1 - (0.05/2)) * (123/math.sqrt(1000)))))"
   ]
  },
  {
   "cell_type": "code",
   "execution_count": 34,
   "metadata": {},
   "outputs": [
    {
     "name": "stdout",
     "output_type": "stream",
     "text": [
      "Size of the plant manager's testing procedure 2.866515719235352e-07\n",
      "Beta is 0.9937903346742238\n",
      "2032.8999999992466\n"
     ]
    }
   ],
   "source": [
    "#9\n",
    "#a\n",
    "print(\"Size of the plant manager's testing procedure\", 1 - (st.norm.cdf((2100-2000)/(200/math.sqrt(100)))))\n",
    "#b\n",
    "print(\"Beta is\", 1 - st.norm.cdf((2100-2150)/(200/math.sqrt(100))))\n",
    "#c #one sided\n",
    "Y_act = 0\n",
    "while True:\n",
    "    if (Y_act-2000)/(200/math.sqrt(100)) < st.norm.ppf(1 - 0.05):\n",
    "        Y_act += 0.1\n",
    "        continue\n",
    "    else:\n",
    "        print(Y_act)\n",
    "        break\n",
    "#if you want to find integer value of Y_act, change the incremental addition number to 1, then the answer would be 2033."
   ]
  },
  {
   "cell_type": "code",
   "execution_count": 45,
   "metadata": {},
   "outputs": [
    {
     "name": "stdout",
     "output_type": "stream",
     "text": [
      "CI for the mean score (56.43202881236796, 59.56797118763204)\n",
      "90% CI for the difference in mean scores (-5.8353205715484116, -2.164679428451588)\n",
      "The P-val is 0.00033722583555379697 since the P-value is so low, we reject the null hypothesis\n"
     ]
    }
   ],
   "source": [
    "#10\n",
    "#a\n",
    "SE_Y = 8 / math.sqrt(100)\n",
    "print(\"CI for the mean score\", (58 - st.norm.ppf(1 - (0.05/2))*SE_Y, 58 + st.norm.ppf(1 - (0.05/2))*SE_Y))\n",
    "#b\n",
    "SE_Y1_Y2 = math.sqrt(64/100 + 121/200)\n",
    "print(\"90% CI for the difference in mean scores\", ((58-62)-st.norm.ppf(1 - (0.1/2))*SE_Y1_Y2, (58-62)+st.norm.ppf(1 - (0.1/2))*SE_Y1_Y2))\n",
    "#c\n",
    "t_act = (58-62) / SE_Y1_Y2\n",
    "print(\"The P-val is\", 2 * st.norm.cdf(-abs(t_act)), \"since the P-value is so low, we reject the null hypothesis\")"
   ]
  },
  {
   "cell_type": "code",
   "execution_count": 46,
   "metadata": {},
   "outputs": [],
   "source": [
    "#11\n",
    "# Proof question - skipped"
   ]
  },
  {
   "cell_type": "code",
   "execution_count": 50,
   "metadata": {},
   "outputs": [
    {
     "name": "stdout",
     "output_type": "stream",
     "text": [
      "44.721359549995796\n",
      "The P-val is 7.74421643104407e-06\n"
     ]
    }
   ],
   "source": [
    "#12\n",
    "SE_Y1_Y2 = math.sqrt(200**2/100 + 320**2/64)\n",
    "print(SE_Y1_Y2)\n",
    "t_act = (3100 - 2900) / SE_Y1_Y2\n",
    "print(\"The P-val is\", 2 * st.norm.cdf(-abs(t_act)))"
   ]
  },
  {
   "cell_type": "code",
   "execution_count": 53,
   "metadata": {},
   "outputs": [
    {
     "name": "stdout",
     "output_type": "stream",
     "text": [
      "95% CI for the mean test score (652.3733438093079, 656.0266561906922)\n",
      "P-val is 2.583016554180695e-05\n"
     ]
    }
   ],
   "source": [
    "#13\n",
    "#a\n",
    "SE_Y = 19.1 / math.sqrt(420)\n",
    "print(\"95% CI for the mean test score\", (654.2 - st.norm.ppf(1-(0.05/2))*SE_Y, 654.2 + st.norm.ppf(1-(0.05/2))*SE_Y))\n",
    "#b\n",
    "SE_Y1_Y2 = math.sqrt(19.4**2 / 238 + 17.9**2 / 182)\n",
    "t_act = (657.4-650.0) / SE_Y1_Y2\n",
    "print(\"P-val is\", 1 - st.norm.cdf(t_act), \"since the P-val is low, we can reject the null hypothesis.\")"
   ]
  },
  {
   "cell_type": "code",
   "execution_count": 54,
   "metadata": {},
   "outputs": [
    {
     "name": "stdout",
     "output_type": "stream",
     "text": [
      "Summary statistics in the metric system\n"
     ]
    }
   ],
   "source": [
    "#14\n",
    "print(\"Summary statistics in the metric system\")\n",
    "X_bar = 70.5 * 0.0254\n",
    "Y_bar = 158 * 0.4536\n",
    "s_x = 1.8 * 0.0254\n",
    "s_y = 14.2 * 0.4536\n",
    "s_xy = 21.73 * 0.054 * 0.4536\n",
    "r_xy = 0.85 #stays the same"
   ]
  },
  {
   "cell_type": "code",
   "execution_count": 68,
   "metadata": {},
   "outputs": [
    {
     "name": "stdout",
     "output_type": "stream",
     "text": [
      "95% CI is 0.46791568397115885 0.5020843160288411\n"
     ]
    }
   ],
   "source": [
    "#15\n",
    "# a, b and c are proof questions - skipped to d\n",
    "#d\n",
    "print(\"95% CI is\", ((0.859-0.374)-st.norm.ppf(1-(0.05/2))*math.sqrt((0.859*(1-0.859))/5801 + (0.374*(1-0.374)/4249))), (0.859-0.374)+st.norm.ppf(1-(0.05/2))*math.sqrt((0.859*(1-0.859))/5801 + (0.374*(1-0.374)/4249)))"
   ]
  },
  {
   "cell_type": "code",
   "execution_count": 4,
   "metadata": {},
   "outputs": [
    {
     "name": "stdout",
     "output_type": "stream",
     "text": [
      "95% CI is 1003.0545887665862 1022.9454112334138\n",
      "The nu=1000 is NOT inside of the CI so we do reject the null hypothesis\n",
      "CI for the change in mean test scores -6.955152936849105 18.955152936849103\n",
      "The 95% CI includes 0 meaning that the data doesn't produce statistically significant evidence\n",
      "95% CI for the change in average test score (3.4747715369923267, 14.525228463007673)\n"
     ]
    }
   ],
   "source": [
    "#16\n",
    "#a\n",
    "print(\"95% CI is\", (1013 - st.norm.ppf(1-(0.05/2))*(108/math.sqrt(453))), 1013 + st.norm.ppf(1-(0.05/2))*(108/math.sqrt(453)))\n",
    "#b\n",
    "if 1013 - st.norm.ppf(1-(0.05/2))*(108/math.sqrt(453)) < 1000 < 1013 + st.norm.ppf(1-(0.05/2))*(108/math.sqrt(453)):\n",
    "    print(\"The nu=1000 is inside of the CI so we do NOT reject the null hypothesis\")\n",
    "else:\n",
    "    print(\"The nu=1000 is NOT inside of the CI so we do reject the null hypothesis\")\n",
    "#c\n",
    "#i\n",
    "SE_Y1_Y2 = math.sqrt(95**2/503 + 108**2/453)\n",
    "print(\"CI for the change in mean test scores\", ((1019-1013) - st.norm.ppf(1-(0.05/2))*SE_Y1_Y2), (1019-1013) + st.norm.ppf(1-(0.05/2))*SE_Y1_Y2)\n",
    "#ii\n",
    "if (1019-1013) - st.norm.ppf(1-(0.05/2))*SE_Y1_Y2 < 0 < (1019-1013) + st.norm.ppf(1-(0.05/2))*SE_Y1_Y2:\n",
    "    print(\"The 95% CI includes 0 meaning that the data doesn't produce statistically significant evidence\")\n",
    "else:\n",
    "    print(\"The 95% CI doesn't include 0 meaning that the data does produce statistically significant evidence\")\n",
    "#d\n",
    "#i\n",
    "SE_X = 60 / math.sqrt(453)\n",
    "print(\"95% CI for the change in average test score\", (9 - st.norm.ppf(1-(0.05/2))*SE_X, 9 + st.norm.ppf(1-(0.05/2))*SE_X))\n",
    "#ii\n",
    "if 9 - st.norm.ppf(1-(0.05/2))*SE_X < 0 < 9 + st.norm.ppf(1-(0.05/2))*SE_X:\n",
    "    print(\"It isn't statistically significant.\")\n",
    "else:\n",
    "    print(\"It is statistically significant.\")\n",
    "#iii\n",
    "#description question - skipped"
   ]
  },
  {
   "cell_type": "code",
   "execution_count": 13,
   "metadata": {},
   "outputs": [
    {
     "name": "stdout",
     "output_type": "stream",
     "text": [
      "CI for the change in men's average hourly earnings 2.308939839508188 4.0710601604918075\n",
      "CI for the change in women's average hourly earnings 1.3324020465564526 2.767597953443549\n",
      "CI for gender gap is 0.0036840979761707526 2.276315902023823\n"
     ]
    }
   ],
   "source": [
    "#17\n",
    "#a\n",
    "SE_Y2015_Y1996 = math.sqrt(14.37**2 / 1917 + 11.44**2 / 1387)\n",
    "print(\"CI for the change in men's average hourly earnings\", (28.06-24.87)-st.norm.ppf(1-(0.05/2))*SE_Y2015_Y1996, (28.06-24.87)+st.norm.ppf(1-(0.05/2))*SE_Y2015_Y1996)\n",
    "#b\n",
    "SE_Y2015_Y1996 = math.sqrt(11.22**2 / 1816 + 8.93**2 / 1232)\n",
    "print(\"CI for the change in women's average hourly earnings\", (23.04-20.99)-st.norm.ppf(1-(0.05/2))*SE_Y2015_Y1996, (23.04-20.99)+st.norm.ppf(1-(0.05/2))*SE_Y2015_Y1996)\n",
    "#c\n",
    "SE_YM_YW = math.sqrt(14.37**2 / 1917 + 11.44**2 / 1387 + 11.22**2 / 1816 + 8.93**2 / 1232)\n",
    "print(\"CI for gender gap is\", (28.06-24.87)-(23.04-20.99) - st.norm.ppf(1-(0.05/2))*SE_YM_YW, (28.06-24.87)-(23.04-20.99) + st.norm.ppf(1-(0.05/2))*SE_YM_YW)"
   ]
  },
  {
   "cell_type": "code",
   "execution_count": 14,
   "metadata": {},
   "outputs": [],
   "source": [
    "#Following questions are all proof based questions - skipped"
   ]
  }
 ],
 "metadata": {
  "kernelspec": {
   "display_name": "Python 3",
   "language": "python",
   "name": "python3"
  },
  "language_info": {
   "codemirror_mode": {
    "name": "ipython",
    "version": 3
   },
   "file_extension": ".py",
   "mimetype": "text/x-python",
   "name": "python",
   "nbconvert_exporter": "python",
   "pygments_lexer": "ipython3",
   "version": "3.7.6"
  }
 },
 "nbformat": 4,
 "nbformat_minor": 4
}
