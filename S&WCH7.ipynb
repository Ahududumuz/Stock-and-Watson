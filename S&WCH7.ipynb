{
 "cells": [
  {
   "cell_type": "markdown",
   "metadata": {},
   "source": [
    "# Hypothesis Tests and Confidence Intervals in Multiple Regression"
   ]
  },
  {
   "cell_type": "code",
   "execution_count": 1,
   "metadata": {},
   "outputs": [],
   "source": [
    "# Hypothesis Tests for a single coefficient\n",
    "# H0 : Bj = Bj,0 vs H1 : Bj != Bj,0 (Two sided alternative)\n",
    "# Formulas in order to calculate T statistics and P value are written and shown in the Excel layout in Python folder"
   ]
  },
  {
   "cell_type": "code",
   "execution_count": 2,
   "metadata": {},
   "outputs": [
    {
     "data": {
      "text/html": [
       "<table class=\"simpletable\">\n",
       "<caption>OLS Regression Results</caption>\n",
       "<tr>\n",
       "  <th>Dep. Variable:</th>         <td>testscr</td>     <th>  R-squared:         </th> <td>   0.426</td>\n",
       "</tr>\n",
       "<tr>\n",
       "  <th>Model:</th>                   <td>OLS</td>       <th>  Adj. R-squared:    </th> <td>   0.424</td>\n",
       "</tr>\n",
       "<tr>\n",
       "  <th>Method:</th>             <td>Least Squares</td>  <th>  F-statistic:       </th> <td>   155.0</td>\n",
       "</tr>\n",
       "<tr>\n",
       "  <th>Date:</th>             <td>Wed, 05 Aug 2020</td> <th>  Prob (F-statistic):</th> <td>4.62e-51</td>\n",
       "</tr>\n",
       "<tr>\n",
       "  <th>Time:</th>                 <td>20:37:12</td>     <th>  Log-Likelihood:    </th> <td> -1716.6</td>\n",
       "</tr>\n",
       "<tr>\n",
       "  <th>No. Observations:</th>      <td>   420</td>      <th>  AIC:               </th> <td>   3439.</td>\n",
       "</tr>\n",
       "<tr>\n",
       "  <th>Df Residuals:</th>          <td>   417</td>      <th>  BIC:               </th> <td>   3451.</td>\n",
       "</tr>\n",
       "<tr>\n",
       "  <th>Df Model:</th>              <td>     2</td>      <th>                     </th>     <td> </td>   \n",
       "</tr>\n",
       "<tr>\n",
       "  <th>Covariance Type:</th>      <td>nonrobust</td>    <th>                     </th>     <td> </td>   \n",
       "</tr>\n",
       "</table>\n",
       "<table class=\"simpletable\">\n",
       "<tr>\n",
       "      <td></td>         <th>coef</th>     <th>std err</th>      <th>t</th>      <th>P>|t|</th>  <th>[0.025</th>    <th>0.975]</th>  \n",
       "</tr>\n",
       "<tr>\n",
       "  <th>Intercept</th> <td>  686.0322</td> <td>    7.411</td> <td>   92.566</td> <td> 0.000</td> <td>  671.464</td> <td>  700.600</td>\n",
       "</tr>\n",
       "<tr>\n",
       "  <th>str</th>       <td>   -1.1013</td> <td>    0.380</td> <td>   -2.896</td> <td> 0.004</td> <td>   -1.849</td> <td>   -0.354</td>\n",
       "</tr>\n",
       "<tr>\n",
       "  <th>el_pct</th>    <td>   -0.6498</td> <td>    0.039</td> <td>  -16.516</td> <td> 0.000</td> <td>   -0.727</td> <td>   -0.572</td>\n",
       "</tr>\n",
       "</table>\n",
       "<table class=\"simpletable\">\n",
       "<tr>\n",
       "  <th>Omnibus:</th>       <td> 0.631</td> <th>  Durbin-Watson:     </th> <td>   0.686</td>\n",
       "</tr>\n",
       "<tr>\n",
       "  <th>Prob(Omnibus):</th> <td> 0.729</td> <th>  Jarque-Bera (JB):  </th> <td>   0.550</td>\n",
       "</tr>\n",
       "<tr>\n",
       "  <th>Skew:</th>          <td> 0.088</td> <th>  Prob(JB):          </th> <td>   0.760</td>\n",
       "</tr>\n",
       "<tr>\n",
       "  <th>Kurtosis:</th>      <td> 3.024</td> <th>  Cond. No.          </th> <td>    301.</td>\n",
       "</tr>\n",
       "</table><br/><br/>Warnings:<br/>[1] Standard Errors assume that the covariance matrix of the errors is correctly specified."
      ],
      "text/plain": [
       "<class 'statsmodels.iolib.summary.Summary'>\n",
       "\"\"\"\n",
       "                            OLS Regression Results                            \n",
       "==============================================================================\n",
       "Dep. Variable:                testscr   R-squared:                       0.426\n",
       "Model:                            OLS   Adj. R-squared:                  0.424\n",
       "Method:                 Least Squares   F-statistic:                     155.0\n",
       "Date:                Wed, 05 Aug 2020   Prob (F-statistic):           4.62e-51\n",
       "Time:                        20:37:12   Log-Likelihood:                -1716.6\n",
       "No. Observations:                 420   AIC:                             3439.\n",
       "Df Residuals:                     417   BIC:                             3451.\n",
       "Df Model:                           2                                         \n",
       "Covariance Type:            nonrobust                                         \n",
       "==============================================================================\n",
       "                 coef    std err          t      P>|t|      [0.025      0.975]\n",
       "------------------------------------------------------------------------------\n",
       "Intercept    686.0322      7.411     92.566      0.000     671.464     700.600\n",
       "str           -1.1013      0.380     -2.896      0.004      -1.849      -0.354\n",
       "el_pct        -0.6498      0.039    -16.516      0.000      -0.727      -0.572\n",
       "==============================================================================\n",
       "Omnibus:                        0.631   Durbin-Watson:                   0.686\n",
       "Prob(Omnibus):                  0.729   Jarque-Bera (JB):                0.550\n",
       "Skew:                           0.088   Prob(JB):                        0.760\n",
       "Kurtosis:                       3.024   Cond. No.                         301.\n",
       "==============================================================================\n",
       "\n",
       "Warnings:\n",
       "[1] Standard Errors assume that the covariance matrix of the errors is correctly specified.\n",
       "\"\"\""
      ]
     },
     "execution_count": 2,
     "metadata": {},
     "output_type": "execute_result"
    }
   ],
   "source": [
    "import pandas as pd\n",
    "from statsmodels.formula.api import ols\n",
    "\n",
    "data = pd.read_csv('caschool.csv')\n",
    "\n",
    "# This is the regression from 7.5 \n",
    "\n",
    "Multiple = ols(\"testscr ~ str + el_pct\", data = data).fit()\n",
    "Multiple.summary()"
   ]
  },
  {
   "cell_type": "markdown",
   "metadata": {},
   "source": [
    "### From the output one can find out what the std err and t statistics of the variables"
   ]
  },
  {
   "cell_type": "code",
   "execution_count": 4,
   "metadata": {},
   "outputs": [
    {
     "data": {
      "text/html": [
       "<table class=\"simpletable\">\n",
       "<caption>OLS Regression Results</caption>\n",
       "<tr>\n",
       "  <th>Dep. Variable:</th>         <td>testscr</td>     <th>  R-squared:         </th> <td>   0.437</td>\n",
       "</tr>\n",
       "<tr>\n",
       "  <th>Model:</th>                   <td>OLS</td>       <th>  Adj. R-squared:    </th> <td>   0.433</td>\n",
       "</tr>\n",
       "<tr>\n",
       "  <th>Method:</th>             <td>Least Squares</td>  <th>  F-statistic:       </th> <td>   107.5</td>\n",
       "</tr>\n",
       "<tr>\n",
       "  <th>Date:</th>             <td>Wed, 05 Aug 2020</td> <th>  Prob (F-statistic):</th> <td>1.60e-51</td>\n",
       "</tr>\n",
       "<tr>\n",
       "  <th>Time:</th>                 <td>20:37:12</td>     <th>  Log-Likelihood:    </th> <td> -1712.8</td>\n",
       "</tr>\n",
       "<tr>\n",
       "  <th>No. Observations:</th>      <td>   420</td>      <th>  AIC:               </th> <td>   3434.</td>\n",
       "</tr>\n",
       "<tr>\n",
       "  <th>Df Residuals:</th>          <td>   416</td>      <th>  BIC:               </th> <td>   3450.</td>\n",
       "</tr>\n",
       "<tr>\n",
       "  <th>Df Model:</th>              <td>     3</td>      <th>                     </th>     <td> </td>   \n",
       "</tr>\n",
       "<tr>\n",
       "  <th>Covariance Type:</th>      <td>nonrobust</td>    <th>                     </th>     <td> </td>   \n",
       "</tr>\n",
       "</table>\n",
       "<table class=\"simpletable\">\n",
       "<tr>\n",
       "      <td></td>         <th>coef</th>     <th>std err</th>      <th>t</th>      <th>P>|t|</th>  <th>[0.025</th>    <th>0.975]</th>  \n",
       "</tr>\n",
       "<tr>\n",
       "  <th>Intercept</th> <td>  649.5779</td> <td>   15.206</td> <td>   42.719</td> <td> 0.000</td> <td>  619.688</td> <td>  679.468</td>\n",
       "</tr>\n",
       "<tr>\n",
       "  <th>str</th>       <td>   -0.2864</td> <td>    0.481</td> <td>   -0.596</td> <td> 0.551</td> <td>   -1.231</td> <td>    0.658</td>\n",
       "</tr>\n",
       "<tr>\n",
       "  <th>expn_stu</th>  <td>    0.0039</td> <td>    0.001</td> <td>    2.739</td> <td> 0.006</td> <td>    0.001</td> <td>    0.007</td>\n",
       "</tr>\n",
       "<tr>\n",
       "  <th>el_pct</th>    <td>   -0.6560</td> <td>    0.039</td> <td>  -16.776</td> <td> 0.000</td> <td>   -0.733</td> <td>   -0.579</td>\n",
       "</tr>\n",
       "</table>\n",
       "<table class=\"simpletable\">\n",
       "<tr>\n",
       "  <th>Omnibus:</th>       <td> 0.046</td> <th>  Durbin-Watson:     </th> <td>   0.742</td>\n",
       "</tr>\n",
       "<tr>\n",
       "  <th>Prob(Omnibus):</th> <td> 0.977</td> <th>  Jarque-Bera (JB):  </th> <td>   0.070</td>\n",
       "</tr>\n",
       "<tr>\n",
       "  <th>Skew:</th>          <td>-0.025</td> <th>  Prob(JB):          </th> <td>   0.966</td>\n",
       "</tr>\n",
       "<tr>\n",
       "  <th>Kurtosis:</th>      <td> 2.962</td> <th>  Cond. No.          </th> <td>1.16e+05</td>\n",
       "</tr>\n",
       "</table><br/><br/>Warnings:<br/>[1] Standard Errors assume that the covariance matrix of the errors is correctly specified.<br/>[2] The condition number is large, 1.16e+05. This might indicate that there are<br/>strong multicollinearity or other numerical problems."
      ],
      "text/plain": [
       "<class 'statsmodels.iolib.summary.Summary'>\n",
       "\"\"\"\n",
       "                            OLS Regression Results                            \n",
       "==============================================================================\n",
       "Dep. Variable:                testscr   R-squared:                       0.437\n",
       "Model:                            OLS   Adj. R-squared:                  0.433\n",
       "Method:                 Least Squares   F-statistic:                     107.5\n",
       "Date:                Wed, 05 Aug 2020   Prob (F-statistic):           1.60e-51\n",
       "Time:                        20:37:12   Log-Likelihood:                -1712.8\n",
       "No. Observations:                 420   AIC:                             3434.\n",
       "Df Residuals:                     416   BIC:                             3450.\n",
       "Df Model:                           3                                         \n",
       "Covariance Type:            nonrobust                                         \n",
       "==============================================================================\n",
       "                 coef    std err          t      P>|t|      [0.025      0.975]\n",
       "------------------------------------------------------------------------------\n",
       "Intercept    649.5779     15.206     42.719      0.000     619.688     679.468\n",
       "str           -0.2864      0.481     -0.596      0.551      -1.231       0.658\n",
       "expn_stu       0.0039      0.001      2.739      0.006       0.001       0.007\n",
       "el_pct        -0.6560      0.039    -16.776      0.000      -0.733      -0.579\n",
       "==============================================================================\n",
       "Omnibus:                        0.046   Durbin-Watson:                   0.742\n",
       "Prob(Omnibus):                  0.977   Jarque-Bera (JB):                0.070\n",
       "Skew:                          -0.025   Prob(JB):                        0.966\n",
       "Kurtosis:                       2.962   Cond. No.                     1.16e+05\n",
       "==============================================================================\n",
       "\n",
       "Warnings:\n",
       "[1] Standard Errors assume that the covariance matrix of the errors is correctly specified.\n",
       "[2] The condition number is large, 1.16e+05. This might indicate that there are\n",
       "strong multicollinearity or other numerical problems.\n",
       "\"\"\""
      ]
     },
     "execution_count": 4,
     "metadata": {},
     "output_type": "execute_result"
    }
   ],
   "source": [
    "# This is the regression from 7.6\n",
    "\n",
    "Triple = ols(\"testscr ~ str + expn_stu + el_pct\", data=data).fit()\n",
    "Triple.summary()"
   ]
  },
  {
   "cell_type": "code",
   "execution_count": 5,
   "metadata": {},
   "outputs": [
    {
     "data": {
      "text/html": [
       "<table class=\"simpletable\">\n",
       "<caption>OLS Regression Results</caption>\n",
       "<tr>\n",
       "  <th>Dep. Variable:</th>         <td>testscr</td>     <th>  R-squared:         </th> <td>   0.437</td>\n",
       "</tr>\n",
       "<tr>\n",
       "  <th>Model:</th>                   <td>OLS</td>       <th>  Adj. R-squared:    </th> <td>   0.433</td>\n",
       "</tr>\n",
       "<tr>\n",
       "  <th>Method:</th>             <td>Least Squares</td>  <th>  F-statistic:       </th> <td>   107.5</td>\n",
       "</tr>\n",
       "<tr>\n",
       "  <th>Date:</th>             <td>Wed, 05 Aug 2020</td> <th>  Prob (F-statistic):</th> <td>1.60e-51</td>\n",
       "</tr>\n",
       "<tr>\n",
       "  <th>Time:</th>                 <td>20:37:12</td>     <th>  Log-Likelihood:    </th> <td> -1712.8</td>\n",
       "</tr>\n",
       "<tr>\n",
       "  <th>No. Observations:</th>      <td>   420</td>      <th>  AIC:               </th> <td>   3434.</td>\n",
       "</tr>\n",
       "<tr>\n",
       "  <th>Df Residuals:</th>          <td>   416</td>      <th>  BIC:               </th> <td>   3450.</td>\n",
       "</tr>\n",
       "<tr>\n",
       "  <th>Df Model:</th>              <td>     3</td>      <th>                     </th>     <td> </td>   \n",
       "</tr>\n",
       "<tr>\n",
       "  <th>Covariance Type:</th>      <td>nonrobust</td>    <th>                     </th>     <td> </td>   \n",
       "</tr>\n",
       "</table>\n",
       "<table class=\"simpletable\">\n",
       "<tr>\n",
       "      <td></td>         <th>coef</th>     <th>std err</th>      <th>t</th>      <th>P>|t|</th>  <th>[0.025</th>    <th>0.975]</th>  \n",
       "</tr>\n",
       "<tr>\n",
       "  <th>Intercept</th> <td>  649.5779</td> <td>   15.206</td> <td>   42.719</td> <td> 0.000</td> <td>  619.688</td> <td>  679.468</td>\n",
       "</tr>\n",
       "<tr>\n",
       "  <th>str</th>       <td>   -0.2864</td> <td>    0.481</td> <td>   -0.596</td> <td> 0.551</td> <td>   -1.231</td> <td>    0.658</td>\n",
       "</tr>\n",
       "<tr>\n",
       "  <th>Expn</th>      <td>    3.8679</td> <td>    1.412</td> <td>    2.739</td> <td> 0.006</td> <td>    1.092</td> <td>    6.644</td>\n",
       "</tr>\n",
       "<tr>\n",
       "  <th>el_pct</th>    <td>   -0.6560</td> <td>    0.039</td> <td>  -16.776</td> <td> 0.000</td> <td>   -0.733</td> <td>   -0.579</td>\n",
       "</tr>\n",
       "</table>\n",
       "<table class=\"simpletable\">\n",
       "<tr>\n",
       "  <th>Omnibus:</th>       <td> 0.046</td> <th>  Durbin-Watson:     </th> <td>   0.742</td>\n",
       "</tr>\n",
       "<tr>\n",
       "  <th>Prob(Omnibus):</th> <td> 0.977</td> <th>  Jarque-Bera (JB):  </th> <td>   0.070</td>\n",
       "</tr>\n",
       "<tr>\n",
       "  <th>Skew:</th>          <td>-0.025</td> <th>  Prob(JB):          </th> <td>   0.966</td>\n",
       "</tr>\n",
       "<tr>\n",
       "  <th>Kurtosis:</th>      <td> 2.962</td> <th>  Cond. No.          </th> <td>    631.</td>\n",
       "</tr>\n",
       "</table><br/><br/>Warnings:<br/>[1] Standard Errors assume that the covariance matrix of the errors is correctly specified."
      ],
      "text/plain": [
       "<class 'statsmodels.iolib.summary.Summary'>\n",
       "\"\"\"\n",
       "                            OLS Regression Results                            \n",
       "==============================================================================\n",
       "Dep. Variable:                testscr   R-squared:                       0.437\n",
       "Model:                            OLS   Adj. R-squared:                  0.433\n",
       "Method:                 Least Squares   F-statistic:                     107.5\n",
       "Date:                Wed, 05 Aug 2020   Prob (F-statistic):           1.60e-51\n",
       "Time:                        20:37:12   Log-Likelihood:                -1712.8\n",
       "No. Observations:                 420   AIC:                             3434.\n",
       "Df Residuals:                     416   BIC:                             3450.\n",
       "Df Model:                           3                                         \n",
       "Covariance Type:            nonrobust                                         \n",
       "==============================================================================\n",
       "                 coef    std err          t      P>|t|      [0.025      0.975]\n",
       "------------------------------------------------------------------------------\n",
       "Intercept    649.5779     15.206     42.719      0.000     619.688     679.468\n",
       "str           -0.2864      0.481     -0.596      0.551      -1.231       0.658\n",
       "Expn           3.8679      1.412      2.739      0.006       1.092       6.644\n",
       "el_pct        -0.6560      0.039    -16.776      0.000      -0.733      -0.579\n",
       "==============================================================================\n",
       "Omnibus:                        0.046   Durbin-Watson:                   0.742\n",
       "Prob(Omnibus):                  0.977   Jarque-Bera (JB):                0.070\n",
       "Skew:                          -0.025   Prob(JB):                        0.966\n",
       "Kurtosis:                       2.962   Cond. No.                         631.\n",
       "==============================================================================\n",
       "\n",
       "Warnings:\n",
       "[1] Standard Errors assume that the covariance matrix of the errors is correctly specified.\n",
       "\"\"\""
      ]
     },
     "execution_count": 5,
     "metadata": {},
     "output_type": "execute_result"
    }
   ],
   "source": [
    "# In the book they alter the expn_stu column and divide every value by 1000 to make it in thousands of dollars\n",
    "# So I do the same thing in here\n",
    "data['Expn'] = data['expn_stu'] / 1000\n",
    "\n",
    "# Doing the linear regression with our new variable\n",
    "Triple = ols(\"testscr ~ str + Expn + el_pct\", data=data).fit()\n",
    "Triple.summary()"
   ]
  },
  {
   "cell_type": "markdown",
   "metadata": {},
   "source": [
    "# 7.2 Tests of Joint Hypotheses\n",
    "### H0 : B1 = B2 = 0 vs H1 : B1 and or B2 != 0"
   ]
  },
  {
   "cell_type": "code",
   "execution_count": 7,
   "metadata": {},
   "outputs": [],
   "source": [
    "# F statistics\n",
    "# Homoskedascitiy-only F-statistics:\n",
    "# F = ((RsquareUnrestricted - RsquareRestricted) / q) / ((1-RsquareUnrestricted)/(n-k-1)) "
   ]
  },
  {
   "cell_type": "code",
   "execution_count": 8,
   "metadata": {},
   "outputs": [
    {
     "data": {
      "text/html": [
       "<table class=\"simpletable\">\n",
       "<caption>OLS Regression Results</caption>\n",
       "<tr>\n",
       "  <th>Dep. Variable:</th>         <td>testscr</td>     <th>  R-squared:         </th> <td>   0.415</td>\n",
       "</tr>\n",
       "<tr>\n",
       "  <th>Model:</th>                   <td>OLS</td>       <th>  Adj. R-squared:    </th> <td>   0.413</td>\n",
       "</tr>\n",
       "<tr>\n",
       "  <th>Method:</th>             <td>Least Squares</td>  <th>  F-statistic:       </th> <td>   296.4</td>\n",
       "</tr>\n",
       "<tr>\n",
       "  <th>Date:</th>             <td>Wed, 05 Aug 2020</td> <th>  Prob (F-statistic):</th> <td>1.36e-50</td>\n",
       "</tr>\n",
       "<tr>\n",
       "  <th>Time:</th>                 <td>20:37:12</td>     <th>  Log-Likelihood:    </th> <td> -1720.7</td>\n",
       "</tr>\n",
       "<tr>\n",
       "  <th>No. Observations:</th>      <td>   420</td>      <th>  AIC:               </th> <td>   3445.</td>\n",
       "</tr>\n",
       "<tr>\n",
       "  <th>Df Residuals:</th>          <td>   418</td>      <th>  BIC:               </th> <td>   3454.</td>\n",
       "</tr>\n",
       "<tr>\n",
       "  <th>Df Model:</th>              <td>     1</td>      <th>                     </th>     <td> </td>   \n",
       "</tr>\n",
       "<tr>\n",
       "  <th>Covariance Type:</th>      <td>nonrobust</td>    <th>                     </th>     <td> </td>   \n",
       "</tr>\n",
       "</table>\n",
       "<table class=\"simpletable\">\n",
       "<tr>\n",
       "      <td></td>         <th>coef</th>     <th>std err</th>      <th>t</th>      <th>P>|t|</th>  <th>[0.025</th>    <th>0.975]</th>  \n",
       "</tr>\n",
       "<tr>\n",
       "  <th>Intercept</th> <td>  664.7394</td> <td>    0.941</td> <td>  706.687</td> <td> 0.000</td> <td>  662.890</td> <td>  666.588</td>\n",
       "</tr>\n",
       "<tr>\n",
       "  <th>el_pct</th>    <td>   -0.6712</td> <td>    0.039</td> <td>  -17.216</td> <td> 0.000</td> <td>   -0.748</td> <td>   -0.595</td>\n",
       "</tr>\n",
       "</table>\n",
       "<table class=\"simpletable\">\n",
       "<tr>\n",
       "  <th>Omnibus:</th>       <td> 4.048</td> <th>  Durbin-Watson:     </th> <td>   0.680</td>\n",
       "</tr>\n",
       "<tr>\n",
       "  <th>Prob(Omnibus):</th> <td> 0.132</td> <th>  Jarque-Bera (JB):  </th> <td>   3.793</td>\n",
       "</tr>\n",
       "<tr>\n",
       "  <th>Skew:</th>          <td> 0.211</td> <th>  Prob(JB):          </th> <td>   0.150</td>\n",
       "</tr>\n",
       "<tr>\n",
       "  <th>Kurtosis:</th>      <td> 3.195</td> <th>  Cond. No.          </th> <td>    31.9</td>\n",
       "</tr>\n",
       "</table><br/><br/>Warnings:<br/>[1] Standard Errors assume that the covariance matrix of the errors is correctly specified."
      ],
      "text/plain": [
       "<class 'statsmodels.iolib.summary.Summary'>\n",
       "\"\"\"\n",
       "                            OLS Regression Results                            \n",
       "==============================================================================\n",
       "Dep. Variable:                testscr   R-squared:                       0.415\n",
       "Model:                            OLS   Adj. R-squared:                  0.413\n",
       "Method:                 Least Squares   F-statistic:                     296.4\n",
       "Date:                Wed, 05 Aug 2020   Prob (F-statistic):           1.36e-50\n",
       "Time:                        20:37:12   Log-Likelihood:                -1720.7\n",
       "No. Observations:                 420   AIC:                             3445.\n",
       "Df Residuals:                     418   BIC:                             3454.\n",
       "Df Model:                           1                                         \n",
       "Covariance Type:            nonrobust                                         \n",
       "==============================================================================\n",
       "                 coef    std err          t      P>|t|      [0.025      0.975]\n",
       "------------------------------------------------------------------------------\n",
       "Intercept    664.7394      0.941    706.687      0.000     662.890     666.588\n",
       "el_pct        -0.6712      0.039    -17.216      0.000      -0.748      -0.595\n",
       "==============================================================================\n",
       "Omnibus:                        4.048   Durbin-Watson:                   0.680\n",
       "Prob(Omnibus):                  0.132   Jarque-Bera (JB):                3.793\n",
       "Skew:                           0.211   Prob(JB):                        0.150\n",
       "Kurtosis:                       3.195   Cond. No.                         31.9\n",
       "==============================================================================\n",
       "\n",
       "Warnings:\n",
       "[1] Standard Errors assume that the covariance matrix of the errors is correctly specified.\n",
       "\"\"\""
      ]
     },
     "execution_count": 8,
     "metadata": {},
     "output_type": "execute_result"
    }
   ],
   "source": [
    "# Homoskedastic \n",
    "reg1 = ols(\"testscr ~ el_pct\", data=data).fit()\n",
    "reg1.summary()"
   ]
  },
  {
   "cell_type": "code",
   "execution_count": 9,
   "metadata": {},
   "outputs": [
    {
     "data": {
      "text/html": [
       "<table class=\"simpletable\">\n",
       "<caption>OLS Regression Results</caption>\n",
       "<tr>\n",
       "  <th>Dep. Variable:</th>         <td>testscr</td>     <th>  R-squared:         </th> <td>   0.415</td>\n",
       "</tr>\n",
       "<tr>\n",
       "  <th>Model:</th>                   <td>OLS</td>       <th>  Adj. R-squared:    </th> <td>   0.413</td>\n",
       "</tr>\n",
       "<tr>\n",
       "  <th>Method:</th>             <td>Least Squares</td>  <th>  F-statistic:       </th> <td>   436.6</td>\n",
       "</tr>\n",
       "<tr>\n",
       "  <th>Date:</th>             <td>Wed, 05 Aug 2020</td> <th>  Prob (F-statistic):</th> <td>6.69e-67</td>\n",
       "</tr>\n",
       "<tr>\n",
       "  <th>Time:</th>                 <td>20:37:12</td>     <th>  Log-Likelihood:    </th> <td> -1720.7</td>\n",
       "</tr>\n",
       "<tr>\n",
       "  <th>No. Observations:</th>      <td>   420</td>      <th>  AIC:               </th> <td>   3445.</td>\n",
       "</tr>\n",
       "<tr>\n",
       "  <th>Df Residuals:</th>          <td>   418</td>      <th>  BIC:               </th> <td>   3454.</td>\n",
       "</tr>\n",
       "<tr>\n",
       "  <th>Df Model:</th>              <td>     1</td>      <th>                     </th>     <td> </td>   \n",
       "</tr>\n",
       "<tr>\n",
       "  <th>Covariance Type:</th>         <td>HC1</td>       <th>                     </th>     <td> </td>   \n",
       "</tr>\n",
       "</table>\n",
       "<table class=\"simpletable\">\n",
       "<tr>\n",
       "      <td></td>         <th>coef</th>     <th>std err</th>      <th>z</th>      <th>P>|z|</th>  <th>[0.025</th>    <th>0.975]</th>  \n",
       "</tr>\n",
       "<tr>\n",
       "  <th>Intercept</th> <td>  664.7394</td> <td>    0.974</td> <td>  682.458</td> <td> 0.000</td> <td>  662.830</td> <td>  666.649</td>\n",
       "</tr>\n",
       "<tr>\n",
       "  <th>el_pct</th>    <td>   -0.6712</td> <td>    0.032</td> <td>  -20.895</td> <td> 0.000</td> <td>   -0.734</td> <td>   -0.608</td>\n",
       "</tr>\n",
       "</table>\n",
       "<table class=\"simpletable\">\n",
       "<tr>\n",
       "  <th>Omnibus:</th>       <td> 4.048</td> <th>  Durbin-Watson:     </th> <td>   0.680</td>\n",
       "</tr>\n",
       "<tr>\n",
       "  <th>Prob(Omnibus):</th> <td> 0.132</td> <th>  Jarque-Bera (JB):  </th> <td>   3.793</td>\n",
       "</tr>\n",
       "<tr>\n",
       "  <th>Skew:</th>          <td> 0.211</td> <th>  Prob(JB):          </th> <td>   0.150</td>\n",
       "</tr>\n",
       "<tr>\n",
       "  <th>Kurtosis:</th>      <td> 3.195</td> <th>  Cond. No.          </th> <td>    31.9</td>\n",
       "</tr>\n",
       "</table><br/><br/>Warnings:<br/>[1] Standard Errors are heteroscedasticity robust (HC1)"
      ],
      "text/plain": [
       "<class 'statsmodels.iolib.summary.Summary'>\n",
       "\"\"\"\n",
       "                            OLS Regression Results                            \n",
       "==============================================================================\n",
       "Dep. Variable:                testscr   R-squared:                       0.415\n",
       "Model:                            OLS   Adj. R-squared:                  0.413\n",
       "Method:                 Least Squares   F-statistic:                     436.6\n",
       "Date:                Wed, 05 Aug 2020   Prob (F-statistic):           6.69e-67\n",
       "Time:                        20:37:12   Log-Likelihood:                -1720.7\n",
       "No. Observations:                 420   AIC:                             3445.\n",
       "Df Residuals:                     418   BIC:                             3454.\n",
       "Df Model:                           1                                         \n",
       "Covariance Type:                  HC1                                         \n",
       "==============================================================================\n",
       "                 coef    std err          z      P>|z|      [0.025      0.975]\n",
       "------------------------------------------------------------------------------\n",
       "Intercept    664.7394      0.974    682.458      0.000     662.830     666.649\n",
       "el_pct        -0.6712      0.032    -20.895      0.000      -0.734      -0.608\n",
       "==============================================================================\n",
       "Omnibus:                        4.048   Durbin-Watson:                   0.680\n",
       "Prob(Omnibus):                  0.132   Jarque-Bera (JB):                3.793\n",
       "Skew:                           0.211   Prob(JB):                        0.150\n",
       "Kurtosis:                       3.195   Cond. No.                         31.9\n",
       "==============================================================================\n",
       "\n",
       "Warnings:\n",
       "[1] Standard Errors are heteroscedasticity robust (HC1)\n",
       "\"\"\""
      ]
     },
     "execution_count": 9,
     "metadata": {},
     "output_type": "execute_result"
    }
   ],
   "source": [
    "reg = ols(\"testscr ~ el_pct\",data=data).fit(cov_type='HC1')\n",
    "reg.summary()"
   ]
  },
  {
   "cell_type": "code",
   "execution_count": 10,
   "metadata": {},
   "outputs": [],
   "source": [
    "# Table 1 skipped"
   ]
  },
  {
   "cell_type": "code",
   "execution_count": 11,
   "metadata": {},
   "outputs": [
    {
     "data": {
      "text/plain": [
       "[<matplotlib.lines.Line2D at 0x2017a5cd848>]"
      ]
     },
     "execution_count": 11,
     "metadata": {},
     "output_type": "execute_result"
    },
    {
     "data": {
      "image/png": "[encoded data removed]",
      "text/plain": [
       "<Figure size 432x288 with 1 Axes>"
      ]
     },
     "metadata": {
      "needs_background": "light"
     },
     "output_type": "display_data"
    }
   ],
   "source": [
    "# Table 2\n",
    "import matplotlib.pyplot as plt\n",
    "plt.plot(data.el_pct, data.testscr, 'o')"
   ]
  },
  {
   "cell_type": "code",
   "execution_count": 12,
   "metadata": {},
   "outputs": [
    {
     "name": "stdout",
     "output_type": "stream",
     "text": [
      "Table 7.2 Scatterplots of Test Scores vs Four Student Characteristics\n"
     ]
    },
    {
     "data": {
      "image/png": "[encoded data removed]",
      "text/plain": [
       "<Figure size 1440x1440 with 4 Axes>"
      ]
     },
     "metadata": {
      "needs_background": "light"
     },
     "output_type": "display_data"
    }
   ],
   "source": [
    "# These charts are given in the S&W Table 7.2 I also gave computer per student chart for extra information.\n",
    "print('Table 7.2 Scatterplots of Test Scores vs Four Student Characteristics')\n",
    "f, axarr = plt.subplots(2, 2, figsize=(20,20))\n",
    "axarr[0,0].scatter(data.el_pct, data.testscr)\n",
    "axarr[0,0].set_title('(a) Percentage of English Learners')\n",
    "axarr[0,1].scatter(data.meal_pct, data.testscr)\n",
    "axarr[0,1].set_title('(b) Percentage eligible for subsidised lunch')\n",
    "axarr[1,0].scatter(data.comp_stu, data.testscr)\n",
    "axarr[1,0].set_title('(c) Percentage of computers per Student')\n",
    "axarr[1,1].scatter(data.calw_pct, data.testscr)\n",
    "axarr[1,1].set_title('(d) Percentage qualifying for income assistance')\n",
    "plt.show()\n"
   ]
  },
  {
   "cell_type": "code",
   "execution_count": 13,
   "metadata": {},
   "outputs": [
    {
     "name": "stdout",
     "output_type": "stream",
     "text": [
      "Table 7.1 Results of Regressions of Test Scores on the Student-Teacher Ratio and Student Characteristics Control Variables Using California Elementary School Districts\n"
     ]
    },
    {
     "data": {
      "text/html": [
       "<table style=\"text-align:center\"><tr><td colspan=\"6\" style=\"border-bottom: 1px solid black\"></td></tr><tr><td style=\"text-align:left\"></td><td colspan=\"5\"><em>Dependent variable:testscr</em></td></tr><tr><td style=\"text-align:left\"></td><tr><td style=\"text-align:left\"></td><td>(1)</td><td>(2)</td><td>(3)</td><td>(4)</td><td>(5)</td></tr><tr><td colspan=\"6\" style=\"border-bottom: 1px solid black\"></td></tr><tr><td style=\"text-align:left\">Intercept</td><td>698.933<sup>***</sup></td><td>686.032<sup>***</sup></td><td>700.150<sup>***</sup></td><td>697.999<sup>***</sup></td><td>700.392<sup>***</sup></td></tr><tr><td style=\"text-align:left\"></td><td>(9.467)</td><td>(7.411)</td><td>(5.568)</td><td>(6.024)</td><td>(4.698)</td></tr><tr><td style=\"text-align:left\">calw_pct</td><td></td><td></td><td></td><td>-0.790<sup>***</sup></td><td>-0.048<sup></sup></td></tr><tr><td style=\"text-align:left\"></td><td></td><td></td><td></td><td>(0.053)</td><td>(0.061)</td></tr><tr><td style=\"text-align:left\">el_pct</td><td></td><td>-0.650<sup>***</sup></td><td>-0.122<sup>***</sup></td><td>-0.488<sup>***</sup></td><td>-0.130<sup>***</sup></td></tr><tr><td style=\"text-align:left\"></td><td></td><td>(0.039)</td><td>(0.033)</td><td>(0.033)</td><td>(0.034)</td></tr><tr><td style=\"text-align:left\">meal_pct</td><td></td><td></td><td>-0.547<sup>***</sup></td><td></td><td>-0.529<sup>***</sup></td></tr><tr><td style=\"text-align:left\"></td><td></td><td></td><td>(0.024)</td><td></td><td>(0.032)</td></tr><tr><td style=\"text-align:left\">str</td><td>-2.280<sup>***</sup></td><td>-1.101<sup>***</sup></td><td>-0.998<sup>***</sup></td><td>-1.308<sup>***</sup></td><td>-1.014<sup>***</sup></td></tr><tr><td style=\"text-align:left\"></td><td>(0.480)</td><td>(0.380)</td><td>(0.270)</td><td>(0.307)</td><td>(0.240)</td></tr><td colspan=\"6\" style=\"border-bottom: 1px solid black\"></td></tr><tr><td style=\"text-align: left\">Observations</td><td>420</td><td>420</td><td>420</td><td>420</td><td>420</td></tr><tr><td style=\"text-align: left\">R<sup>2</sup></td><td>0.051</td><td>0.426</td><td>0.775</td><td>0.629</td><td>0.775</td></tr><tr><td style=\"text-align: left\">Adjusted R<sup>2</sup></td><td>0.049</td><td>0.424</td><td>0.773</td><td>0.626</td><td>0.773</td></tr><tr><td style=\"text-align: left\">Residual Std. Error</td><td>18.581 (df=418)</td><td>14.464 (df=417)</td><td>9.080 (df=416)</td><td>11.654 (df=416)</td><td>9.084 (df=415)</td></tr><tr><td style=\"text-align: left\">F Statistic</td><td>22.575<sup>***</sup> (df=1; 418)</td><td>155.014<sup>***</sup> (df=2; 417)</td><td>453.479<sup>***</sup> (df=3; 416)</td><td>234.638<sup>***</sup> (df=3; 416)</td><td>357.054<sup>***</sup> (df=4; 415)</td></tr><tr><td colspan=\"6\" style=\"border-bottom: 1px solid black\"></td></tr><tr><td style=\"text-align: left\">Note:</td>\n",
       " <td colspan=\"5\" style=\"text-align: right\">\n",
       "  <sup>*</sup>p&lt;0.1;\n",
       "  <sup>**</sup>p&lt;0.05;\n",
       "  <sup>***</sup>p&lt;0.01\n",
       " </td></tr></table>"
      ],
      "text/plain": [
       "<IPython.core.display.HTML object>"
      ]
     },
     "execution_count": 13,
     "metadata": {},
     "output_type": "execute_result"
    }
   ],
   "source": [
    "print('Table 7.1 Results of Regressions of Test Scores on the Student-Teacher Ratio and Student Characteristics Control Variables Using California Elementary School Districts')\n",
    "reg1 = ols(\"testscr ~ str\", data=data).fit()\n",
    "reg2 = ols(\"testscr ~ str + el_pct\", data=data).fit()\n",
    "reg3 = ols(\"testscr ~ str + el_pct + meal_pct\", data=data).fit(cov_type='HC1')\n",
    "reg4 = ols(\"testscr ~ str + el_pct + calw_pct\", data=data).fit()\n",
    "reg5 = ols(\"testscr ~ str + el_pct + meal_pct + calw_pct\", data=data).fit()\n",
    "from stargazer.stargazer import Stargazer\n",
    "from IPython.core.display import HTML\n",
    "stargazer = Stargazer([reg1, reg2, reg3, reg4,reg5])\n",
    "HTML(stargazer.render_html())\n"
   ]
  },
  {
   "cell_type": "markdown",
   "metadata": {},
   "source": [
    "# Now let's go to the Practice questions"
   ]
  },
  {
   "cell_type": "code",
   "execution_count": 15,
   "metadata": {},
   "outputs": [
    {
     "name": "stdout",
     "output_type": "stream",
     "text": [
      "P value is 0.0000\n",
      "P value is 0.0000\n",
      "P value is 0.0000\n"
     ]
    }
   ],
   "source": [
    "#1\n",
    "import scipy.stats as st\n",
    "print(\"P value is {:.4f}\".format(2*st.norm.cdf(-abs(10.47/0.29))))\n",
    "print(\"P value is {:.4f}\".format(2*st.norm.cdf(-abs(10.44/0.29))))\n",
    "print(\"P value is {:.4f}\".format(2*st.norm.cdf(-abs(10.42/0.29))))"
   ]
  },
  {
   "cell_type": "code",
   "execution_count": 16,
   "metadata": {},
   "outputs": [
    {
     "name": "stdout",
     "output_type": "stream",
     "text": [
      "CI is : [9.9016, 11.0384]\n",
      "CI is : [-5.2584, -4.1216]\n"
     ]
    }
   ],
   "source": [
    "#2\n",
    "#a\n",
    "t_stat = 10.47/0.29\n",
    "print(\"CI is : [{0:.4f}, {1:.4f}]\".format(10.47-st.norm.ppf(1-(0.05/2))*0.29, 10.47+st.norm.ppf(1-(0.05/2))*0.29))\n",
    "#b\n",
    "t_stat = -4.69/0.29\n",
    "print(\"CI is : [{0:.4f}, {1:.4f}]\".format(-4.69-st.norm.ppf(1-(0.05/2))*0.29, -4.69+st.norm.ppf(1-(0.05/2))*0.29))"
   ]
  },
  {
   "cell_type": "code",
   "execution_count": 17,
   "metadata": {},
   "outputs": [
    {
     "name": "stdout",
     "output_type": "stream",
     "text": [
      "CI is : [0.5316, 0.6884]\n",
      "CI is : [2.6580, 3.4420]\n"
     ]
    }
   ],
   "source": [
    "#3\n",
    "#a\n",
    "t_stat = 0.61/0.04\n",
    "print(\"CI is : [{0:.4f}, {1:.4f}]\".format(0.61-st.norm.ppf(1-(0.05/2))*0.04, 0.61+st.norm.ppf(1-(0.05/2))*0.04))\n",
    "#b\n",
    "print(\"CI is : [{0:.4f}, {1:.4f}]\".format(5*(0.61-st.norm.ppf(1-(0.05/2))*0.04), 5*(0.61+st.norm.ppf(1-(0.05/2))*0.04)))"
   ]
  },
  {
   "cell_type": "code",
   "execution_count": 18,
   "metadata": {},
   "outputs": [
    {
     "name": "stdout",
     "output_type": "stream",
     "text": [
      "The regional effects are significant at the 1% level\n",
      "The 95% CI is [-1.1652, 0.2852]\n"
     ]
    }
   ],
   "source": [
    "#4\n",
    "#a\n",
    "# Note instead of infinity I used 1000000, for some reason math.inf isn't working (even after importing the library)\n",
    "if 9.32 > st.f.ppf(0.99, 3, 1000000):\n",
    "    print('The regional effects are significant at the 1% level')\n",
    "else:\n",
    "    print('The regional effects are NOT significant at the 1% level')\n",
    "#b\n",
    "print('The 95% CI is [{0:.4f}, {1:.4f}]'.format(-0.44-st.norm.ppf(1-(0.05/2))*0.37, -0.44+st.norm.ppf(1-(0.05/2))*0.37))"
   ]
  },
  {
   "cell_type": "code",
   "execution_count": 19,
   "metadata": {},
   "outputs": [
    {
     "name": "stdout",
     "output_type": "stream",
     "text": [
      "0.05126968973747026 0.42674940334128875 0.7746252983293557 0.6286778042959427 0.7751670644391409\n"
     ]
    }
   ],
   "source": [
    "# skipped to question 8\n",
    "#a\n",
    "Column1 = 1 - ((420-1-1)/(420-1)) * (1 - 0.049)\n",
    "Column2 = 1 - ((420-2-1)/(420-1)) * (1 - 0.424)\n",
    "Column3 = 1 - ((420-3-1)/(420-1)) * (1 - 0.773)\n",
    "Column4 = 1 - ((420-3-1)/(420-1)) * (1 - 0.626)\n",
    "Column5 = 1 - ((420-4-1)/(420-1)) * (1 - 0.773)\n",
    "print(Column1,Column2,Column3,Column4,Column5)\n"
   ]
  },
  {
   "cell_type": "code",
   "execution_count": null,
   "metadata": {},
   "outputs": [],
   "source": []
  }
 ],
 "metadata": {
  "kernelspec": {
   "display_name": "Python 3",
   "language": "python",
   "name": "python3"
  },
  "language_info": {
   "codemirror_mode": {
    "name": "ipython",
    "version": 3
   },
   "file_extension": ".py",
   "mimetype": "text/x-python",
   "name": "python",
   "nbconvert_exporter": "python",
   "pygments_lexer": "ipython3",
   "version": "3.7.6"
  }
 },
 "nbformat": 4,
 "nbformat_minor": 4
}
